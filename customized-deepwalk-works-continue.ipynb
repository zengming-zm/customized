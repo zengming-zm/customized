{
 "cells": [
  {
   "cell_type": "code",
   "execution_count": 264,
   "metadata": {
    "collapsed": false
   },
   "outputs": [],
   "source": [
    "import collections\n",
    "import math\n",
    "import os\n",
    "import sys\n",
    "import argparse\n",
    "import random\n",
    "from tempfile import gettempdir\n",
    "import zipfile\n",
    "import pickle\n",
    "\n",
    "import numpy as np\n",
    "import cPickle\n",
    "import random\n",
    "import math\n",
    "import h5py\n",
    "from multiprocessing import cpu_count\n",
    "import scipy.io as sio\n",
    "from sklearn.preprocessing import MultiLabelBinarizer\n",
    "from collections import defaultdict\n",
    "from gensim.models import Word2Vec, KeyedVectors\n",
    "from six import iteritems\n",
    "from sklearn.multiclass import OneVsRestClassifier\n",
    "from sklearn.linear_model import LogisticRegression\n",
    "from sklearn.metrics import f1_score\n",
    "from sklearn.utils import shuffle as skshuffle\n",
    "from numpy import genfromtxt\n",
    "from sklearn.metrics import accuracy_score\n",
    "\n",
    "from collections import defaultdict as dd\n",
    "import tensorflow as tf\n",
    "from tensorflow.python.ops.init_ops import glorot_uniform_initializer, RandomUniform, RandomNormal\n",
    "\n",
    "from keras import layers\n",
    "from keras.models import Sequential\n",
    "from keras.layers import Input, Dense, Activation, BatchNormalization, Flatten\n",
    "from keras.layers.embeddings import Embedding\n",
    "from keras.models import Model\n",
    "from keras.utils import layer_utils\n",
    "from keras.utils.data_utils import get_file\n",
    "from keras.applications.imagenet_utils import preprocess_input\n",
    "from keras.preprocessing.text import one_hot\n",
    "from keras.preprocessing.sequence import pad_sequences\n",
    "\n",
    "from gensim.models import Word2Vec\n",
    "from gensim.models.word2vec import Vocab\n",
    "\n",
    "import word2vec\n",
    "\n",
    "np.random.seed(1)\n",
    "random.seed(1)"
   ]
  },
  {
   "cell_type": "markdown",
   "metadata": {},
   "source": [
    "# Evaluation"
   ]
  },
  {
   "cell_type": "code",
   "execution_count": 265,
   "metadata": {
    "collapsed": true
   },
   "outputs": [],
   "source": [
    "def sparse2graph(x):\n",
    "    G = defaultdict(lambda: set())\n",
    "    cx = x.tocoo()\n",
    "    for i,j,v in zip(cx.row, cx.col, cx.data):\n",
    "        G[i].add(j)\n",
    "    return {str(k): [str(x) for x in v] for k,v in iteritems(G)}\n",
    "\n",
    "class TopKRanker(OneVsRestClassifier):\n",
    "    def predict(self, X, top_k_list):\n",
    "        assert X.shape[0] == len(top_k_list)\n",
    "        probs = np.asarray(super(TopKRanker, self).predict_proba(X))\n",
    "        all_labels = []\n",
    "        for i, k in enumerate(top_k_list):\n",
    "            probs_ = probs[i, :]\n",
    "            labels = self.classes_[probs_.argsort()[-k:]].tolist()\n",
    "            all_labels.append(labels)\n",
    "        return all_labels\n",
    "\n",
    "np.random.seed(1)\n",
    "random.seed(1)\n",
    "def scoring(emb_filename, matfile):\n",
    "    # 0. Files\n",
    "    embeddings_file = emb_filename\n",
    "\n",
    "    # 1. Load Embeddings\n",
    "    embeddings = np.loadtxt(embeddings_file)\n",
    "    \n",
    "    ## for original deepwalk\n",
    "    #model = KeyedVectors.load_word2vec_format(embeddings_file, binary=False)\n",
    "    \n",
    "    ## for external word2vec lib\n",
    "#     model = word2vec.load('/hdd2/graph_embedding/tmp/blogcatalog.embeddings.walks.0.bin')\n",
    "\n",
    "    # 2. Load labels\n",
    "    mat = sio.loadmat(matfile)\n",
    "    A = mat['network']\n",
    "    graph = sparse2graph(A)\n",
    "    labels_matrix = mat['group']\n",
    "    labels_count = labels_matrix.shape[1]\n",
    "    mlb = MultiLabelBinarizer(range(labels_count))\n",
    "\n",
    "    # Map nodes to their features (note:  assumes nodes are labeled as integers 1:N)\n",
    "    features_matrix = embeddings\n",
    "\n",
    "    # original code\n",
    "#     features_matrix = np.asarray([model[str(node)] for node in range(len(graph))])\n",
    "\n",
    "    # use other word2vec lib\n",
    "#     features_matrix = np.asarray([model[str(node)] for node in range(len(model.vocab)-1)])\n",
    "#     rand_list = range(len(model.vocab)-1)\n",
    "# #     random.shuffle(rand_list)\n",
    "#     features_matrix = np.asarray([model[str(node)] for node in rand_list])\n",
    "    \n",
    "    # 2. Shuffle, to create train/test groups\n",
    "    shuffles = []\n",
    "    for x in range(1):\n",
    "        shuffles.append(skshuffle(features_matrix, labels_matrix, random_state = 1))\n",
    "\n",
    "    # 3. to score each train/test group\n",
    "    all_results = defaultdict(list)\n",
    "\n",
    "#     if args.all:\n",
    "#         training_percents = numpy.asarray(range(1, 10)) * .1\n",
    "#     else:\n",
    "#         training_percents = [0.1, 0.5, 0.9]\n",
    "    training_percents = [0.1]\n",
    "    for train_percent in training_percents:\n",
    "        for shuf in shuffles:\n",
    "            \n",
    "            X, y = shuf\n",
    "\n",
    "            training_size = int(train_percent * X.shape[0])\n",
    "\n",
    "            X_train = X[:training_size, :]\n",
    "            y_train_ = y[:training_size]\n",
    "\n",
    "            y_train = [[] for x in range(y_train_.shape[0])]\n",
    "\n",
    "\n",
    "            cy =  y_train_.tocoo()\n",
    "            for i, j in zip(cy.row, cy.col):\n",
    "                y_train[i].append(j)\n",
    "\n",
    "            assert sum(len(l) for l in y_train) == y_train_.nnz\n",
    "\n",
    "            X_test = X[training_size:, :]\n",
    "            y_test_ = y[training_size:]\n",
    "\n",
    "            y_test = [[] for _ in range(y_test_.shape[0])]\n",
    "\n",
    "            cy =  y_test_.tocoo()\n",
    "            for i, j in zip(cy.row, cy.col):\n",
    "                y_test[i].append(j)\n",
    "\n",
    "            clf = TopKRanker(LogisticRegression())\n",
    "            clf.fit(X_train, y_train_)\n",
    "\n",
    "            # find out how many labels should be predicted\n",
    "            top_k_list = [len(l) for l in y_test]\n",
    "            preds = clf.predict(X_test, top_k_list)\n",
    "\n",
    "            results = {}\n",
    "            averages = [\"micro\", \"macro\"]\n",
    "            for average in averages:\n",
    "                results[average] = f1_score(mlb.fit_transform(y_test), mlb.fit_transform(preds), average=average)\n",
    "\n",
    "            all_results[train_percent].append(results)\n",
    "\n",
    "    print ('Results, using embeddings of dimensionality', X.shape[1])\n",
    "    print ('-------------------')\n",
    "    for train_percent in sorted(all_results.keys()):\n",
    "        print ('Train percent:', train_percent)\n",
    "    for index, result in enumerate(all_results[train_percent]):\n",
    "        print ('Shuffle #%d:   ' % (index + 1), result)\n",
    "    avg_score = defaultdict(float)\n",
    "    for score_dict in all_results[train_percent]:\n",
    "        for metric, score in iteritems(score_dict):\n",
    "            avg_score[metric] += score\n",
    "    for metric in avg_score:\n",
    "        avg_score[metric] /= len(all_results[train_percent])\n",
    "    print ('Average score:', dict(avg_score))\n",
    "    print ('-------------------')\n",
    "    "
   ]
  },
  {
   "cell_type": "markdown",
   "metadata": {
    "collapsed": true
   },
   "source": [
    "# Load Data"
   ]
  },
  {
   "cell_type": "code",
   "execution_count": 266,
   "metadata": {
    "collapsed": true
   },
   "outputs": [],
   "source": [
    "# Initialize parameters\n",
    "DATASET = 'citeseer'\n",
    "\n",
    "embedding_size = 128\n",
    "learning_rate = 0.1\n",
    "gl_learning_rate = 0.1\n",
    "batch_size = 200\n",
    "neg_samp = 0\n",
    "model_file = 'trans.model'\n",
    "\n",
    "window_size = 10\n",
    "path_size = 10\n",
    "\n",
    "\n",
    "use_feature = True\n",
    "update_emb = True\n",
    "layer_loss =  True"
   ]
  },
  {
   "cell_type": "code",
   "execution_count": 267,
   "metadata": {
    "collapsed": false
   },
   "outputs": [],
   "source": [
    "file_list = ['/hdd2/graph_embedding/customized/tmp/citeseer.embeddings.walks']\n",
    "# file_list = ['/hdd2/graph_embedding/customized/blogcatalog.embeddings.walks.0']\n",
    "dataset = genfromtxt(file_list[0], delimiter=' ')\n",
    "\n",
    "def get_num_vacabulary(dataset):\n",
    "    word_count = 0\n",
    "    for d in dataset:\n",
    "        word_count = max(word_count, max(d))\n",
    "    return int(word_count)\n",
    "\n",
    "vocabulary_size = get_num_vacabulary(dataset) + 1"
   ]
  },
  {
   "cell_type": "code",
   "execution_count": 268,
   "metadata": {
    "collapsed": true
   },
   "outputs": [],
   "source": [
    "words = dataset.flatten()\n",
    "words = [str(int(w)) for w in words]"
   ]
  },
  {
   "cell_type": "code",
   "execution_count": 269,
   "metadata": {
    "collapsed": false
   },
   "outputs": [
    {
     "data": {
      "text/plain": [
       "['1858', '355', '3029', '583', '2167', '583', '2932', '3029', '3032', '3029']"
      ]
     },
     "execution_count": 269,
     "metadata": {},
     "output_type": "execute_result"
    }
   ],
   "source": [
    "words[:10]"
   ]
  },
  {
   "cell_type": "code",
   "execution_count": 270,
   "metadata": {
    "collapsed": false
   },
   "outputs": [
    {
     "data": {
      "text/plain": [
       "array([ 1858.,   355.,  3029.,   583.,  2167.,   583.,  2932.,  3029.,\n",
       "        3032.,  3029.,  1425.,  3029.,  2101.,  2102.,  2101.,  3029.,\n",
       "         583.,  2167.,  2164.,  2169.,  3227.,  2721.,  3227.,  2721.,\n",
       "         774.,  2220.,   774.,  2719.,   774.,  2364.,  2369.,    83.,\n",
       "        2720.,   774.,  2720.,    83.,   680.,    83.,  1556.,    83.])"
      ]
     },
     "execution_count": 270,
     "metadata": {},
     "output_type": "execute_result"
    }
   ],
   "source": [
    "dataset[0]"
   ]
  },
  {
   "cell_type": "code",
   "execution_count": null,
   "metadata": {
    "collapsed": false
   },
   "outputs": [],
   "source": []
  },
  {
   "cell_type": "code",
   "execution_count": 271,
   "metadata": {
    "collapsed": false
   },
   "outputs": [
    {
     "name": "stdout",
     "output_type": "stream",
     "text": [
      "('Most common words (+UNK)', [('2171', 40988), ('3058', 31149), ('2261', 13697), ('906', 13467), ('2319', 12872)])\n",
      "('Sample data', [260, 160, 16, 763, 2458, 763, 2389, 16, 3116, 16])\n"
     ]
    }
   ],
   "source": [
    "def build_dataset(words):\n",
    "    count = []\n",
    "#     count = [['UNK', -1]]\n",
    "    count.extend(collections.Counter(words).most_common(vocabulary_size))\n",
    "    dictionary = dict()\n",
    "    for word, _ in count:\n",
    "        dictionary[word] = len(dictionary)\n",
    "    data = list()\n",
    "    for word in words:\n",
    "        if word in dictionary:\n",
    "            index = dictionary[word]\n",
    "#         else:\n",
    "#             index = 0  # dictionary['UNK']\n",
    "        data.append(index)\n",
    "    reverse_dictionary = dict(zip(dictionary.values(), dictionary.keys())) \n",
    "    return data, count, dictionary, reverse_dictionary\n",
    "\n",
    "data, count, dictionary, reverse_dictionary = build_dataset(words)\n",
    "print('Most common words (+UNK)', count[:5])\n",
    "print('Sample data', data[:10])"
   ]
  },
  {
   "cell_type": "code",
   "execution_count": 114,
   "metadata": {
    "collapsed": false
   },
   "outputs": [],
   "source": [
    "# matfile = '/hdd2/graph_embedding/deepwalk/example_graphs/blogcatalog.mat'\n",
    "# mat = sio.loadmat(matfile)\n",
    "# A = mat['network']\n",
    "# graph = sparse2graph(A)\n",
    "# labels_matrix = mat['group']"
   ]
  },
  {
   "cell_type": "code",
   "execution_count": 128,
   "metadata": {
    "collapsed": false
   },
   "outputs": [],
   "source": [
    "# label_list = [row.nonzero()[1][0] for row in labels_matrix]"
   ]
  },
  {
   "cell_type": "code",
   "execution_count": null,
   "metadata": {
    "collapsed": false
   },
   "outputs": [],
   "source": []
  },
  {
   "cell_type": "code",
   "execution_count": 72,
   "metadata": {
    "collapsed": false
   },
   "outputs": [],
   "source": [
    "# def split_dataset(matfile, vocabulary_size, dictionary):\n",
    "#     # 1. Load labels\n",
    "#     mat = sio.loadmat(matfile)\n",
    "#     A = mat['network']\n",
    "#     graph = sparse2graph(A)\n",
    "#     labels_matrix = mat['group'].toarray()\n",
    "    \n",
    "#     # node id list\n",
    "#     node_id_list = np.asarray([dictionary[str(node)] for node in range(vocabulary_size)], dtype=np.int32)\n",
    "    \n",
    "#     # 2. Shuffle, to create train/test groups\n",
    "#     shuffles = []\n",
    "#     for x in range(1):\n",
    "#         shuffles.append(skshuffle(node_id_list, labels_matrix, random_state = 1))\n",
    "\n",
    "#     # 3. to score each train/test group\n",
    "#     all_results = defaultdict(list)\n",
    "\n",
    "# #     if args.all:\n",
    "# #         training_percents = numpy.asarray(range(1, 10)) * .1\n",
    "# #     else:\n",
    "# #         training_percents = [0.1, 0.5, 0.9]\n",
    "#     training_percents = [0.9]\n",
    "#     for train_percent in training_percents:\n",
    "#         for shuf in shuffles:\n",
    "            \n",
    "#             X, y = shuf\n",
    "\n",
    "#             training_size = int(train_percent * X.shape[0])\n",
    "\n",
    "#             X_train = X[:training_size]\n",
    "#             y_train = y[:training_size, :]\n",
    "\n",
    "#             X_test = X[training_size:]\n",
    "#             y_test = y[training_size:, :]\n",
    "        \n",
    "#     return X_train, y_train, X_test, y_test\n",
    "\n",
    "# trn_x, trn_y, tst_x, tst_y = split_dataset(matfile, vocabulary_size, dictionary)\n",
    "# data_splited_filename = '/hdd2/graph_embedding/customized/blogcatalog_splited_p90.pickle'\n",
    "# data_trn_tst = {'trn_x' : trn_x,\n",
    "#                 'trn_y' : trn_y,\n",
    "#                 'tst_x' : tst_x,\n",
    "#                 'tst_y' : tst_y}\n",
    "# with open(data_splited_filename, 'wb') as handle:\n",
    "#     pickle.dump(data_trn_tst, handle, protocol=pickle.HIGHEST_PROTOCOL)"
   ]
  },
  {
   "cell_type": "code",
   "execution_count": 269,
   "metadata": {
    "collapsed": false
   },
   "outputs": [],
   "source": [
    "# ## Read the data, the trn_x is the position in the embedding matrix\n",
    "# with open(data_splited_filename, 'rb') as handle:\n",
    "#     unserialized_data = pickle.load(handle)\n",
    "# trn_x, trn_y, tst_x, tst_y = (unserialized_data['trn_x'], unserialized_data['trn_y'], unserialized_data['tst_x'], unserialized_data['tst_y'])"
   ]
  },
  {
   "cell_type": "code",
   "execution_count": null,
   "metadata": {
    "collapsed": false
   },
   "outputs": [],
   "source": []
  },
  {
   "cell_type": "code",
   "execution_count": 272,
   "metadata": {
    "collapsed": false
   },
   "outputs": [
    {
     "name": "stdout",
     "output_type": "stream",
     "text": [
      "\n",
      "with num_skips = 20 and skip_window = 10:\n",
      "400\n"
     ]
    }
   ],
   "source": [
    "path_index = 0\n",
    "batch_path_size = 1\n",
    "batch_size = batch_path_size * 400\n",
    "def generate_batch(batch_path_size, num_skips, skip_window):\n",
    "    global path_index\n",
    "    assert batch_size % num_skips == 0\n",
    "#     print(num_skips, skip_window)\n",
    "    assert num_skips <= 2 * skip_window\n",
    "#     batch = np.ndarray(shape=(batch_size), dtype=np.int32)\n",
    "#     labels = np.ndarray(shape=(batch_size, 1), dtype=np.int32)\n",
    "    batch = []\n",
    "    labels = []\n",
    "#     span = 2 * skip_window + 1 # [ skip_window target skip_window ]\n",
    "    buffer = collections.deque(maxlen=batch_path_size)\n",
    "    for i in range(batch_path_size):\n",
    "        len_path = len(dataset[path_index])\n",
    "        for l in range(skip_window, len_path - skip_window): # [ skip_window target skip_window ]\n",
    "            for m in range(l - skip_window, l + skip_window + 1):\n",
    "                if m < 0 or m >= len_path or m == l: \n",
    "                    continue\n",
    "                batch.append(dictionary[str(int(dataset[path_index][l]))])\n",
    "                labels.append(dictionary[str(int(dataset[path_index][m]))])\n",
    "        \n",
    "        path_index = (path_index + 1) % len(dataset)\n",
    "    return (np.asarray(batch, dtype = np.int32), \n",
    "            np.asarray(labels, dtype = np.int32).reshape([len(labels), 1]))\n",
    "\n",
    "# print('data:', [reverse_dictionary[di] for di in data[:8]])\n",
    "\n",
    "for batch_path_size, num_skips, skip_window in [(1, 20, 10)]:\n",
    "    data_index = 0\n",
    "    batch, labels = generate_batch(batch_path_size=batch_path_size, num_skips=num_skips, skip_window=skip_window)\n",
    "    print('\\nwith num_skips = %d and skip_window = %d:' % (num_skips, skip_window))\n",
    "    print(len(batch))\n",
    "#     print('    batch node id:', [reverse_dictionary[bi] for bi in batch])\n",
    "#     print('    node position:')\n",
    "#     print(batch.tolist())\n",
    "#     print(labels)\n",
    "#     print('    labels:', [reverse_dictionary[li] for li in labels.reshape(batch_size)])"
   ]
  },
  {
   "cell_type": "code",
   "execution_count": null,
   "metadata": {
    "collapsed": false
   },
   "outputs": [],
   "source": []
  },
  {
   "cell_type": "code",
   "execution_count": 273,
   "metadata": {
    "collapsed": false
   },
   "outputs": [
    {
     "data": {
      "text/plain": [
       "400"
      ]
     },
     "execution_count": 273,
     "metadata": {},
     "output_type": "execute_result"
    }
   ],
   "source": [
    "len(labels)"
   ]
  },
  {
   "cell_type": "code",
   "execution_count": 274,
   "metadata": {
    "collapsed": true
   },
   "outputs": [],
   "source": [
    "# # inject trained embedding\n",
    "# model = word2vec.load('/hdd2/graph_embedding/tmp/blogcatalog.embeddings.walks.0.bin')\n",
    "# features_matrix = np.asarray([model[str(node)] for node in range(len(model.vocab)-1)])\n",
    "# # make the order consistant to the current one\n",
    "# reordered_list = np.asarray([int(reverse_dictionary[idx]) for idx in range(len(model.vocab)-1)])\n",
    "# reordered_features_matrix = features_matrix[reordered_list]"
   ]
  },
  {
   "cell_type": "code",
   "execution_count": 275,
   "metadata": {
    "collapsed": false
   },
   "outputs": [],
   "source": [
    "# Reproduce Gensim weights initialization\n",
    "def seeded_vector(seed_string, vector_size):\n",
    "    \"\"\"Create one 'random' vector (but deterministic by seed_string)\"\"\"\n",
    "    # Note: built-in hash() may vary by Python version or even (in Py3.x) per launch\n",
    "    once = np.random.RandomState(hash(seed_string) & 0xffffffff)\n",
    "    return (once.rand(vector_size) - 0.5) / vector_size\n",
    "\n",
    "features_list = []\n",
    "for idx in range(vocabulary_size):\n",
    "    str_node = reverse_dictionary[idx]\n",
    "    features_list.append(seeded_vector(str_node + str(1), 128))\n",
    "features_matrix = np.asarray(features_list)"
   ]
  },
  {
   "cell_type": "code",
   "execution_count": 305,
   "metadata": {
    "collapsed": false
   },
   "outputs": [
    {
     "name": "stdout",
     "output_type": "stream",
     "text": [
      "/hdd2/graph_embedding/planetoid/data/trans.citeseer.x\n",
      "/hdd2/graph_embedding/planetoid/data/trans.citeseer.y\n",
      "/hdd2/graph_embedding/planetoid/data/trans.citeseer.tx\n",
      "/hdd2/graph_embedding/planetoid/data/trans.citeseer.ty\n",
      "/hdd2/graph_embedding/planetoid/data/trans.citeseer.graph\n"
     ]
    }
   ],
   "source": [
    "# for datasets in the icml paper\n",
    "file_path = '/hdd2/graph_embedding/planetoid/data/'\n",
    "def get_labeled_instant():\n",
    "    DATASET = 'citeseer'\n",
    "    NAMES = ['x', 'y', 'tx', 'ty', 'graph']\n",
    "    OBJECTS = []\n",
    "    for i in range(len(NAMES)):\n",
    "        f = file_path + 'trans.{}.{}'.format(DATASET, NAMES[i])\n",
    "        print(f)\n",
    "        OBJECTS.append(cPickle.load(open(f)))\n",
    "    x, y, tx, ty, graph = tuple(OBJECTS)\n",
    "    \n",
    "    trn_idx = np.array([int(dictionary[str(idx)]) for idx in range(x.shape[0])])\n",
    "#     trn_idx = trn_idx.reshape(trn_idx.shape[0], 1)\n",
    "    \n",
    "    tst_idx = np.array([int(dictionary[str(idx)]) for idx in range(x.shape[0], x.shape[0]+tx.shape[0])])\n",
    "#     tst_idx = tst_idx.reshape(tst_idx.shape[0], 1)\n",
    "    \n",
    "    \n",
    "    return trn_idx, y, tst_idx, ty, x.toarray(), tx.toarray()\n",
    "\n",
    "trn_idx, trn_y, tst_idx, tst_y, trn_f, tst_f = get_labeled_instant()"
   ]
  },
  {
   "cell_type": "code",
   "execution_count": 306,
   "metadata": {
    "collapsed": false
   },
   "outputs": [
    {
     "data": {
      "text/plain": [
       "(120,)"
      ]
     },
     "execution_count": 306,
     "metadata": {},
     "output_type": "execute_result"
    }
   ],
   "source": [
    "trn_idx.shape"
   ]
  },
  {
   "cell_type": "code",
   "execution_count": null,
   "metadata": {
    "collapsed": false
   },
   "outputs": [],
   "source": []
  },
  {
   "cell_type": "code",
   "execution_count": 311,
   "metadata": {
    "collapsed": false
   },
   "outputs": [],
   "source": [
    "use_feature = False\n",
    "use_weight = False\n",
    "labeled_size = trn_idx.shape[0]\n",
    "batch_path_size = 2\n",
    "batch_size = batch_path_size * 400\n",
    "embedding_size = 128 # Dimension of the embedding vector.\n",
    "skip_window = 10 # How many words to consider left and right.\n",
    "num_skips = 20 # How many times to reuse an input to generate a label.\n",
    "num_class = 6\n",
    "\n",
    "# We pick a random validation set to sample nearest neighbors. here we limit the\n",
    "# validation samples to the words that have a low numeric ID, which by\n",
    "# construction are also the most frequent. \n",
    "valid_size = 16 # Random set of words to evaluate similarity on.\n",
    "valid_window = 100 # Only pick dev samples in the head of the distribution.\n",
    "valid_examples = np.array(random.sample(range(valid_window), valid_size))\n",
    "num_sampled = 64 # Number of negative examples to sample.\n",
    "\n",
    "graph = tf.Graph()\n",
    "\n",
    "with graph.as_default(), tf.device('/cpu:0'):\n",
    "\n",
    "    # Input data.\n",
    "    train_dataset = tf.placeholder(tf.int32, shape=[batch_size])\n",
    "    train_labels = tf.placeholder(tf.int32, shape=[batch_size, 1])\n",
    "    valid_dataset = tf.constant(valid_examples, dtype=tf.int32)\n",
    "    \n",
    "    path_weight = tf.placeholder(tf.float32, shape = [None, None])\n",
    "        \n",
    "    # Variables.\n",
    "#     embeddings = tf.Variable(\n",
    "#         tf.random_uniform([vocabulary_size, embedding_size], -1.0, 1.0))\n",
    "    embeddings = tf.Variable(features_matrix, dtype=tf.float32)\n",
    "    softmax_weights = tf.Variable(\n",
    "        tf.truncated_normal([vocabulary_size, embedding_size],\n",
    "                         stddev=1.0 / math.sqrt(embedding_size)))\n",
    "    softmax_biases = tf.Variable(tf.zeros([vocabulary_size]))\n",
    "\n",
    "    # Model.\n",
    "    # Look up embeddings for inputs.\n",
    "    embed = tf.nn.embedding_lookup(embeddings, train_dataset)\n",
    "    \n",
    "    # Compute the softmax loss, using a sample of the negative labels each time.\n",
    "    loss = tf.reduce_mean(\n",
    "        tf.nn.sampled_softmax_loss(weights=softmax_weights, biases=softmax_biases, inputs=embed,\n",
    "                                   labels=train_labels, num_sampled=num_sampled, num_classes=vocabulary_size))\n",
    "\n",
    "    global_step = tf.Variable(0, trainable=False)\n",
    "#     learning_rate = tf.train.exponential_decay(\n",
    "#         learning_rate = 0.25,                # Base learning rate.\n",
    "#         global_step = global_step,  # Current index into the dataset.\n",
    "#         decay_steps = 10000,          # Decay step.\n",
    "#         decay_rate = 0.96,                # Decay rate.\n",
    "#         staircase=True)\n",
    "\n",
    "#     emb_lr = tf.train.polynomial_decay(\n",
    "#         learning_rate = 0.25,                # Base learning rate.\n",
    "#         global_step = global_step,  # Current index into the dataset.\n",
    "#         decay_steps = 10000,          # Decay step.\n",
    "#         end_learning_rate = 0.025,\n",
    "#         power = 1)\n",
    "    \n",
    "    # Optimizer.\n",
    "    # Note: The optimizer will optimize the softmax_weights AND the embeddings.\n",
    "    # This is because the embeddings are defined as a variable quantity and the\n",
    "    # optimizer's `minimize` method will by default modify all variable quantities \n",
    "    # that contribute to the tensor it is passed.\n",
    "    # See docs on `tf.train.Optimizer.minimize()` for more details.\n",
    "    optimizer = tf.train.AdagradOptimizer(learning_rate=0.25).minimize(loss, global_step=global_step)\n",
    "\n",
    "    \n",
    "#     clf_lr = 0.25\n",
    "    clf_idx = tf.placeholder(tf.int32, shape=[None])\n",
    "    clf_y = tf.placeholder(tf.float32, shape=[None, trn_y.shape[1]])\n",
    "    \n",
    "    \n",
    "    embed_x = tf.nn.embedding_lookup(embeddings, clf_idx)\n",
    "\n",
    "#   for datasets in the deepwalk, multi-class\n",
    "#     logit_y = tf.layers.dense(inputs = embed_x, units = clf_y.shape[1], \n",
    "#                               activation=tf.nn.sigmoid, kernel_initializer=glorot_uniform_initializer())\n",
    "#     clf_loss = tf.reduce_mean(\n",
    "#         tf.nn.sigmoid_cross_entropy_with_logits(logits = logit_y, labels = clf_y))\n",
    "\n",
    "    feature_dataset = tf.placeholder(tf.float32, shape=[None, trn_f.shape[1]])\n",
    "    l_x_hid = tf.layers.dense(inputs = feature_dataset, units = clf_y.shape[1],\n",
    "                              activation = tf.nn.softmax, kernel_initializer = glorot_uniform_initializer())\n",
    "    if (use_feature):\n",
    "        logit_emd = tf.layers.dense(inputs = embed_x, units = clf_y.shape[1],\n",
    "                                    activation=tf.nn.softmax, kernel_initializer=glorot_uniform_initializer())\n",
    "        l_f = tf.concat([l_x_hid, logit_emd], axis = 1)\n",
    "        logit_y = tf.layers.dense(inputs = l_f, units = clf_y.shape[1],\n",
    "                                  activation=tf.nn.softmax, kernel_initializer=glorot_uniform_initializer())\n",
    "    else:\n",
    "    #   for datasets in the icml paper, single-class\n",
    "        logit_y = tf.layers.dense(inputs = embed_x, units = clf_y.shape[1], \n",
    "                                  activation=tf.nn.softmax, kernel_initializer=glorot_uniform_initializer())\n",
    "        \n",
    "    clf_loss = tf.reduce_mean(\n",
    "        tf.nn.softmax_cross_entropy_with_logits(logits = logit_y, labels = clf_y))\n",
    "    \n",
    "    clf_optimizer = tf.train.GradientDescentOptimizer(learning_rate=0.25).minimize(clf_loss)\n",
    "    \n",
    "    \n",
    "    # Compute the similarity between minibatch examples and all embeddings.\n",
    "    # We use the cosine distance:\n",
    "#     norm = tf.sqrt(tf.reduce_sum(tf.square(embeddings), 1, keep_dims=True))\n",
    "#     normalized_embeddings = embeddings / norm\n",
    "#     valid_embeddings = tf.nn.embedding_lookup(\n",
    "#         normalized_embeddings, valid_dataset)\n",
    "#     similarity = tf.matmul(valid_embeddings, tf.transpose(normalized_embeddings))"
   ]
  },
  {
   "cell_type": "code",
   "execution_count": null,
   "metadata": {
    "collapsed": false
   },
   "outputs": [],
   "source": []
  },
  {
   "cell_type": "code",
   "execution_count": null,
   "metadata": {
    "collapsed": false
   },
   "outputs": [],
   "source": []
  },
  {
   "cell_type": "code",
   "execution_count": 290,
   "metadata": {
    "collapsed": false
   },
   "outputs": [
    {
     "name": "stdout",
     "output_type": "stream",
     "text": [
      "loss: 4.0610\n"
     ]
    }
   ],
   "source": [
    "with tf.Session(graph=graph) as session:\n",
    "    tf.global_variables_initializer().run()\n",
    "    \n",
    "    batch_data, batch_labels = generate_batch(\n",
    "        batch_path_size, num_skips, skip_window)\n",
    "    feed_dict = {train_dataset : batch_data, train_labels : batch_labels}\n",
    "    _, l, res_embed = session.run([optimizer, loss, embed], feed_dict=feed_dict)\n",
    "    print('loss: %.4f' %(l))"
   ]
  },
  {
   "cell_type": "code",
   "execution_count": null,
   "metadata": {
    "collapsed": false
   },
   "outputs": [],
   "source": []
  },
  {
   "cell_type": "code",
   "execution_count": null,
   "metadata": {
    "collapsed": false
   },
   "outputs": [],
   "source": []
  },
  {
   "cell_type": "code",
   "execution_count": 298,
   "metadata": {
    "collapsed": false
   },
   "outputs": [
    {
     "data": {
      "text/plain": [
       "'6156'"
      ]
     },
     "execution_count": 298,
     "metadata": {},
     "output_type": "execute_result"
    }
   ],
   "source": [
    "reverse_dictionary[1025]"
   ]
  },
  {
   "cell_type": "code",
   "execution_count": 299,
   "metadata": {
    "collapsed": false
   },
   "outputs": [
    {
     "data": {
      "text/plain": [
       "1025"
      ]
     },
     "execution_count": 299,
     "metadata": {},
     "output_type": "execute_result"
    }
   ],
   "source": [
    "dictionary['6156']"
   ]
  },
  {
   "cell_type": "code",
   "execution_count": 305,
   "metadata": {
    "collapsed": false
   },
   "outputs": [
    {
     "name": "stdout",
     "output_type": "stream",
     "text": [
      "  (0, 2)\t1.0\n",
      "  (0, 4)\t1.0\n",
      "  (0, 12)\t1.0\n",
      "  (0, 16)\t1.0\n",
      "  (0, 23)\t1.0\n",
      "  (0, 24)\t1.0\n"
     ]
    }
   ],
   "source": [
    "print(labels_matrix[6156])"
   ]
  },
  {
   "cell_type": "code",
   "execution_count": null,
   "metadata": {
    "collapsed": false
   },
   "outputs": [],
   "source": []
  },
  {
   "cell_type": "code",
   "execution_count": 310,
   "metadata": {
    "collapsed": false
   },
   "outputs": [
    {
     "name": "stdout",
     "output_type": "stream",
     "text": [
      "Initialized\n",
      "Average embedding loss at step 0: 3.519383, lr 0.250000\n",
      "Average embedding loss at step 2000: 3.926005, lr 0.250000\n",
      "Average embedding loss at step 4000: 3.765736, lr 0.250000\n",
      "Average embedding loss at step 6000: 3.484224, lr 0.250000\n",
      "Average embedding loss at step 8000: 2.931002, lr 0.250000\n",
      "Average classification loss at step 0: 1.791780, lr 0.250000\n",
      "Epoch 0, trn acc 0.666667 acc 0.525000:\n",
      "Average embedding loss at step 0: 0.320834, lr 0.250000\n",
      "Average embedding loss at step 2000: 1.678072, lr 0.250000\n",
      "Average embedding loss at step 4000: 1.363678, lr 0.250000\n",
      "Average embedding loss at step 6000: 1.142598, lr 0.250000\n",
      "Average embedding loss at step 8000: 1.006780, lr 0.250000\n",
      "Average classification loss at step 0: 1.477347, lr 0.250000\n",
      "Epoch 1, trn acc 1.000000 acc 0.499000:\n",
      "Average embedding loss at step 0: 1.097978, lr 0.250000\n",
      "Average embedding loss at step 2000: 0.850220, lr 0.250000\n",
      "Average embedding loss at step 4000: 0.842479, lr 0.250000\n",
      "Average embedding loss at step 6000: 0.807812, lr 0.250000\n",
      "Average embedding loss at step 8000: 0.774216, lr 0.250000\n",
      "Average classification loss at step 0: 1.157973, lr 0.250000\n",
      "Epoch 2, trn acc 1.000000 acc 0.510000:\n",
      "Average embedding loss at step 0: 0.733033, lr 0.250000\n",
      "Average embedding loss at step 2000: 0.749911, lr 0.250000\n",
      "Average embedding loss at step 4000: 0.752137, lr 0.250000\n",
      "Average embedding loss at step 6000: 0.723908, lr 0.250000\n",
      "Average embedding loss at step 8000: 0.714332, lr 0.250000\n",
      "Average classification loss at step 0: 1.067641, lr 0.250000\n",
      "Epoch 3, trn acc 1.000000 acc 0.502000:\n",
      "Average embedding loss at step 0: 0.275310, lr 0.250000\n",
      "Average embedding loss at step 2000: 0.688311, lr 0.250000\n",
      "Average embedding loss at step 4000: 0.705473, lr 0.250000\n",
      "Average embedding loss at step 6000: 0.703975, lr 0.250000\n",
      "Average embedding loss at step 8000: 0.696943, lr 0.250000\n",
      "Average classification loss at step 0: 1.055238, lr 0.250000\n",
      "Epoch 4, trn acc 1.000000 acc 0.500000:\n",
      "Average embedding loss at step 0: 0.873950, lr 0.250000\n",
      "Average embedding loss at step 2000: 0.715093, lr 0.250000\n",
      "Average embedding loss at step 4000: 0.688353, lr 0.250000\n",
      "Average embedding loss at step 6000: 0.687763, lr 0.250000\n",
      "Average embedding loss at step 8000: 0.676651, lr 0.250000\n",
      "Average classification loss at step 0: 1.051191, lr 0.250000\n",
      "Epoch 5, trn acc 1.000000 acc 0.497000:\n",
      "Average embedding loss at step 0: 0.313064, lr 0.250000\n",
      "Average embedding loss at step 2000: 0.692009, lr 0.250000\n",
      "Average embedding loss at step 4000: 0.684105, lr 0.250000\n",
      "Average embedding loss at step 6000: 0.689590, lr 0.250000\n",
      "Average embedding loss at step 8000: 0.678330, lr 0.250000\n",
      "Average classification loss at step 0: 1.049187, lr 0.250000\n",
      "Epoch 6, trn acc 1.000000 acc 0.498000:\n",
      "Average embedding loss at step 0: 0.009936, lr 0.250000\n",
      "Average embedding loss at step 2000: 0.680282, lr 0.250000\n",
      "Average embedding loss at step 4000: 0.675181, lr 0.250000\n",
      "Average embedding loss at step 6000: 0.670906, lr 0.250000\n",
      "Average embedding loss at step 8000: 0.684692, lr 0.250000\n",
      "Average classification loss at step 0: 1.048002, lr 0.250000\n",
      "Epoch 7, trn acc 1.000000 acc 0.503000:\n",
      "Average embedding loss at step 0: 0.899838, lr 0.250000\n",
      "Average embedding loss at step 2000: 0.671241, lr 0.250000\n",
      "Average embedding loss at step 4000: 0.689325, lr 0.250000\n",
      "Average embedding loss at step 6000: 0.676799, lr 0.250000\n",
      "Average embedding loss at step 8000: 0.679335, lr 0.250000\n",
      "Average classification loss at step 0: 1.047232, lr 0.250000\n",
      "Epoch 8, trn acc 1.000000 acc 0.502000:\n",
      "Average embedding loss at step 0: 0.016482, lr 0.250000\n",
      "Average embedding loss at step 2000: 0.682310, lr 0.250000\n",
      "Average embedding loss at step 4000: 0.667021, lr 0.250000\n",
      "Average embedding loss at step 6000: 0.672956, lr 0.250000\n",
      "Average embedding loss at step 8000: 0.676305, lr 0.250000\n",
      "Average classification loss at step 0: 1.046665, lr 0.250000\n",
      "Epoch 9, trn acc 1.000000 acc 0.506000:\n",
      "Average embedding loss at step 0: 0.780127, lr 0.250000\n",
      "Average embedding loss at step 2000: 0.674720, lr 0.250000\n",
      "Average embedding loss at step 4000: 0.655230, lr 0.250000\n",
      "Average embedding loss at step 6000: 0.671613, lr 0.250000\n",
      "Average embedding loss at step 8000: 0.662899, lr 0.250000\n",
      "Average classification loss at step 0: 1.046246, lr 0.250000\n",
      "Epoch 10, trn acc 1.000000 acc 0.507000:\n",
      "Average embedding loss at step 0: 0.478112, lr 0.250000\n",
      "Average embedding loss at step 2000: 0.668329, lr 0.250000\n",
      "Average embedding loss at step 4000: 0.661765, lr 0.250000\n",
      "Average embedding loss at step 6000: 0.671870, lr 0.250000\n",
      "Average embedding loss at step 8000: 0.646410, lr 0.250000\n",
      "Average classification loss at step 0: 1.045927, lr 0.250000\n",
      "Epoch 11, trn acc 1.000000 acc 0.509000:\n",
      "Average embedding loss at step 0: 0.705640, lr 0.250000\n",
      "Average embedding loss at step 2000: 0.651655, lr 0.250000\n",
      "Average embedding loss at step 4000: 0.674244, lr 0.250000\n",
      "Average embedding loss at step 6000: 0.654073, lr 0.250000\n",
      "Average embedding loss at step 8000: 0.670344, lr 0.250000\n",
      "Average classification loss at step 0: 1.045675, lr 0.250000\n",
      "Epoch 12, trn acc 1.000000 acc 0.509000:\n",
      "Average embedding loss at step 0: 2.164705, lr 0.250000\n",
      "Average embedding loss at step 2000: 0.678857, lr 0.250000\n",
      "Average embedding loss at step 4000: 0.663658, lr 0.250000\n",
      "Average embedding loss at step 6000: 0.666639, lr 0.250000\n",
      "Average embedding loss at step 8000: 0.657059, lr 0.250000\n",
      "Average classification loss at step 0: 1.045480, lr 0.250000\n",
      "Epoch 13, trn acc 1.000000 acc 0.509000:\n",
      "Average embedding loss at step 0: 0.004121, lr 0.250000\n",
      "Average embedding loss at step 2000: 0.663156, lr 0.250000\n",
      "Average embedding loss at step 4000: 0.663166, lr 0.250000\n",
      "Average embedding loss at step 6000: 0.657607, lr 0.250000\n",
      "Average embedding loss at step 8000: 0.663830, lr 0.250000\n",
      "Average classification loss at step 0: 1.045309, lr 0.250000\n",
      "Epoch 14, trn acc 1.000000 acc 0.508000:\n",
      "Average embedding loss at step 0: 1.169356, lr 0.250000\n",
      "Average embedding loss at step 2000: 0.664784, lr 0.250000\n",
      "Average embedding loss at step 4000: 0.669519, lr 0.250000\n",
      "Average embedding loss at step 6000: 0.674467, lr 0.250000\n",
      "Average embedding loss at step 8000: 0.656220, lr 0.250000\n",
      "Average classification loss at step 0: 1.045166, lr 0.250000\n",
      "Epoch 15, trn acc 1.000000 acc 0.511000:\n",
      "Average embedding loss at step 0: 0.415037, lr 0.250000\n",
      "Average embedding loss at step 2000: 0.645810, lr 0.250000\n",
      "Average embedding loss at step 4000: 0.672780, lr 0.250000\n",
      "Average embedding loss at step 6000: 0.663529, lr 0.250000\n",
      "Average embedding loss at step 8000: 0.648982, lr 0.250000\n",
      "Average classification loss at step 0: 1.045034, lr 0.250000\n",
      "Epoch 16, trn acc 1.000000 acc 0.509000:\n",
      "Average embedding loss at step 0: 0.194111, lr 0.250000\n",
      "Average embedding loss at step 2000: 0.683963, lr 0.250000\n",
      "Average embedding loss at step 4000: 0.666487, lr 0.250000\n",
      "Average embedding loss at step 6000: 0.657615, lr 0.250000\n",
      "Average embedding loss at step 8000: 0.652050, lr 0.250000\n",
      "Average classification loss at step 0: 1.044932, lr 0.250000\n",
      "Epoch 17, trn acc 1.000000 acc 0.509000:\n",
      "Average embedding loss at step 0: 0.722756, lr 0.250000\n",
      "Average embedding loss at step 2000: 0.649201, lr 0.250000\n",
      "Average embedding loss at step 4000: 0.658070, lr 0.250000\n",
      "Average embedding loss at step 6000: 0.662105, lr 0.250000\n",
      "Average embedding loss at step 8000: 0.643910, lr 0.250000\n",
      "Average classification loss at step 0: 1.044839, lr 0.250000\n",
      "Epoch 18, trn acc 1.000000 acc 0.509000:\n",
      "Average embedding loss at step 0: 0.421643, lr 0.250000\n",
      "Average embedding loss at step 2000: 0.667266, lr 0.250000\n",
      "Average embedding loss at step 4000: 0.650375, lr 0.250000\n",
      "Average embedding loss at step 6000: 0.651320, lr 0.250000\n",
      "Average embedding loss at step 8000: 0.643860, lr 0.250000\n",
      "Average classification loss at step 0: 1.044762, lr 0.250000\n",
      "Epoch 19, trn acc 1.000000 acc 0.507000:\n",
      "Average embedding loss at step 0: 1.277290, lr 0.250000\n",
      "Average embedding loss at step 2000: 0.651463, lr 0.250000\n",
      "Average embedding loss at step 4000: 0.652912, lr 0.250000\n",
      "Average embedding loss at step 6000: 0.669355, lr 0.250000\n",
      "Average embedding loss at step 8000: 0.637988, lr 0.250000\n",
      "Average classification loss at step 0: 1.044696, lr 0.250000\n",
      "Epoch 20, trn acc 1.000000 acc 0.509000:\n",
      "Average embedding loss at step 0: 0.001716, lr 0.250000\n",
      "Average embedding loss at step 2000: 0.670303, lr 0.250000\n",
      "Average embedding loss at step 4000: 0.648758, lr 0.250000\n",
      "Average embedding loss at step 6000: 0.671622, lr 0.250000\n",
      "Average embedding loss at step 8000: 0.655695, lr 0.250000\n",
      "Average classification loss at step 0: 1.044634, lr 0.250000\n",
      "Epoch 21, trn acc 1.000000 acc 0.510000:\n",
      "Average embedding loss at step 0: 0.001726, lr 0.250000\n",
      "Average embedding loss at step 2000: 0.641498, lr 0.250000\n",
      "Average embedding loss at step 4000: 0.670713, lr 0.250000\n",
      "Average embedding loss at step 6000: 0.654183, lr 0.250000\n",
      "Average embedding loss at step 8000: 0.662806, lr 0.250000\n",
      "Average classification loss at step 0: 1.044575, lr 0.250000\n",
      "Epoch 22, trn acc 1.000000 acc 0.510000:\n",
      "Average embedding loss at step 0: 0.001228, lr 0.250000\n",
      "Average embedding loss at step 2000: 0.654912, lr 0.250000\n",
      "Average embedding loss at step 4000: 0.667820, lr 0.250000\n",
      "Average embedding loss at step 6000: 0.651137, lr 0.250000\n",
      "Average embedding loss at step 8000: 0.666482, lr 0.250000\n",
      "Average classification loss at step 0: 1.044528, lr 0.250000\n",
      "Epoch 23, trn acc 1.000000 acc 0.509000:\n",
      "Average embedding loss at step 0: 1.863042, lr 0.250000\n",
      "Average embedding loss at step 2000: 0.669580, lr 0.250000\n",
      "Average embedding loss at step 4000: 0.645931, lr 0.250000\n",
      "Average embedding loss at step 6000: 0.647303, lr 0.250000\n",
      "Average embedding loss at step 8000: 0.645659, lr 0.250000\n",
      "Average classification loss at step 0: 1.044484, lr 0.250000\n",
      "Epoch 24, trn acc 1.000000 acc 0.513000:\n",
      "Average embedding loss at step 0: 1.153312, lr 0.250000\n",
      "Average embedding loss at step 2000: 0.648991, lr 0.250000\n",
      "Average embedding loss at step 4000: 0.658088, lr 0.250000\n",
      "Average embedding loss at step 6000: 0.675340, lr 0.250000\n",
      "Average embedding loss at step 8000: 0.669193, lr 0.250000\n",
      "Average classification loss at step 0: 1.044442, lr 0.250000\n",
      "Epoch 25, trn acc 1.000000 acc 0.516000:\n",
      "Average embedding loss at step 0: 0.001338, lr 0.250000\n",
      "Average embedding loss at step 2000: 0.651832, lr 0.250000\n",
      "Average embedding loss at step 4000: 0.648768, lr 0.250000\n",
      "Average embedding loss at step 6000: 0.643099, lr 0.250000\n",
      "Average embedding loss at step 8000: 0.646337, lr 0.250000\n",
      "Average classification loss at step 0: 1.044404, lr 0.250000\n",
      "Epoch 26, trn acc 1.000000 acc 0.514000:\n",
      "Average embedding loss at step 0: 1.142659, lr 0.250000\n",
      "Average embedding loss at step 2000: 0.653101, lr 0.250000\n",
      "Average embedding loss at step 4000: 0.659608, lr 0.250000\n",
      "Average embedding loss at step 6000: 0.654756, lr 0.250000\n",
      "Average embedding loss at step 8000: 0.662748, lr 0.250000\n",
      "Average classification loss at step 0: 1.044370, lr 0.250000\n",
      "Epoch 27, trn acc 1.000000 acc 0.513000:\n",
      "Average embedding loss at step 0: 1.514135, lr 0.250000\n",
      "Average embedding loss at step 2000: 0.661698, lr 0.250000\n"
     ]
    },
    {
     "ename": "KeyboardInterrupt",
     "evalue": "",
     "output_type": "error",
     "traceback": [
      "\u001b[0;31m---------------------------------------------------------------------------\u001b[0m",
      "\u001b[0;31mKeyboardInterrupt\u001b[0m                         Traceback (most recent call last)",
      "\u001b[0;32m<ipython-input-310-4923c1e73ff0>\u001b[0m in \u001b[0;36m<module>\u001b[0;34m()\u001b[0m\n\u001b[1;32m     14\u001b[0m                 batch_path_size=batch_path_size, num_skips=num_skips, skip_window=skip_window)\n\u001b[1;32m     15\u001b[0m             \u001b[0mfeed_dict\u001b[0m \u001b[0;34m=\u001b[0m \u001b[0;34m{\u001b[0m\u001b[0mtrain_dataset\u001b[0m \u001b[0;34m:\u001b[0m \u001b[0mbatch_data\u001b[0m\u001b[0;34m,\u001b[0m \u001b[0mtrain_labels\u001b[0m \u001b[0;34m:\u001b[0m \u001b[0mbatch_labels\u001b[0m\u001b[0;34m}\u001b[0m\u001b[0;34m\u001b[0m\u001b[0m\n\u001b[0;32m---> 16\u001b[0;31m             \u001b[0m_\u001b[0m\u001b[0;34m,\u001b[0m \u001b[0ml\u001b[0m \u001b[0;34m=\u001b[0m \u001b[0msession\u001b[0m\u001b[0;34m.\u001b[0m\u001b[0mrun\u001b[0m\u001b[0;34m(\u001b[0m\u001b[0;34m[\u001b[0m\u001b[0moptimizer\u001b[0m\u001b[0;34m,\u001b[0m \u001b[0mloss\u001b[0m\u001b[0;34m]\u001b[0m\u001b[0;34m,\u001b[0m \u001b[0mfeed_dict\u001b[0m\u001b[0;34m=\u001b[0m\u001b[0mfeed_dict\u001b[0m\u001b[0;34m)\u001b[0m\u001b[0;34m\u001b[0m\u001b[0m\n\u001b[0m\u001b[1;32m     17\u001b[0m             \u001b[0maverage_emb_loss\u001b[0m \u001b[0;34m+=\u001b[0m \u001b[0ml\u001b[0m\u001b[0;34m\u001b[0m\u001b[0m\n\u001b[1;32m     18\u001b[0m             \u001b[0;32mif\u001b[0m \u001b[0mstep\u001b[0m \u001b[0;34m%\u001b[0m \u001b[0;36m2000\u001b[0m \u001b[0;34m==\u001b[0m \u001b[0;36m0\u001b[0m\u001b[0;34m:\u001b[0m\u001b[0;34m\u001b[0m\u001b[0m\n",
      "\u001b[0;32m/home/mingzeng/anaconda2/lib/python2.7/site-packages/tensorflow/python/client/session.pyc\u001b[0m in \u001b[0;36mrun\u001b[0;34m(self, fetches, feed_dict, options, run_metadata)\u001b[0m\n\u001b[1;32m    887\u001b[0m     \u001b[0;32mtry\u001b[0m\u001b[0;34m:\u001b[0m\u001b[0;34m\u001b[0m\u001b[0m\n\u001b[1;32m    888\u001b[0m       result = self._run(None, fetches, feed_dict, options_ptr,\n\u001b[0;32m--> 889\u001b[0;31m                          run_metadata_ptr)\n\u001b[0m\u001b[1;32m    890\u001b[0m       \u001b[0;32mif\u001b[0m \u001b[0mrun_metadata\u001b[0m\u001b[0;34m:\u001b[0m\u001b[0;34m\u001b[0m\u001b[0m\n\u001b[1;32m    891\u001b[0m         \u001b[0mproto_data\u001b[0m \u001b[0;34m=\u001b[0m \u001b[0mtf_session\u001b[0m\u001b[0;34m.\u001b[0m\u001b[0mTF_GetBuffer\u001b[0m\u001b[0;34m(\u001b[0m\u001b[0mrun_metadata_ptr\u001b[0m\u001b[0;34m)\u001b[0m\u001b[0;34m\u001b[0m\u001b[0m\n",
      "\u001b[0;32m/home/mingzeng/anaconda2/lib/python2.7/site-packages/tensorflow/python/client/session.pyc\u001b[0m in \u001b[0;36m_run\u001b[0;34m(self, handle, fetches, feed_dict, options, run_metadata)\u001b[0m\n\u001b[1;32m   1118\u001b[0m     \u001b[0;32mif\u001b[0m \u001b[0mfinal_fetches\u001b[0m \u001b[0;32mor\u001b[0m \u001b[0mfinal_targets\u001b[0m \u001b[0;32mor\u001b[0m \u001b[0;34m(\u001b[0m\u001b[0mhandle\u001b[0m \u001b[0;32mand\u001b[0m \u001b[0mfeed_dict_tensor\u001b[0m\u001b[0;34m)\u001b[0m\u001b[0;34m:\u001b[0m\u001b[0;34m\u001b[0m\u001b[0m\n\u001b[1;32m   1119\u001b[0m       results = self._do_run(handle, final_targets, final_fetches,\n\u001b[0;32m-> 1120\u001b[0;31m                              feed_dict_tensor, options, run_metadata)\n\u001b[0m\u001b[1;32m   1121\u001b[0m     \u001b[0;32melse\u001b[0m\u001b[0;34m:\u001b[0m\u001b[0;34m\u001b[0m\u001b[0m\n\u001b[1;32m   1122\u001b[0m       \u001b[0mresults\u001b[0m \u001b[0;34m=\u001b[0m \u001b[0;34m[\u001b[0m\u001b[0;34m]\u001b[0m\u001b[0;34m\u001b[0m\u001b[0m\n",
      "\u001b[0;32m/home/mingzeng/anaconda2/lib/python2.7/site-packages/tensorflow/python/client/session.pyc\u001b[0m in \u001b[0;36m_do_run\u001b[0;34m(self, handle, target_list, fetch_list, feed_dict, options, run_metadata)\u001b[0m\n\u001b[1;32m   1315\u001b[0m     \u001b[0;32mif\u001b[0m \u001b[0mhandle\u001b[0m \u001b[0;32mis\u001b[0m \u001b[0mNone\u001b[0m\u001b[0;34m:\u001b[0m\u001b[0;34m\u001b[0m\u001b[0m\n\u001b[1;32m   1316\u001b[0m       return self._do_call(_run_fn, self._session, feeds, fetches, targets,\n\u001b[0;32m-> 1317\u001b[0;31m                            options, run_metadata)\n\u001b[0m\u001b[1;32m   1318\u001b[0m     \u001b[0;32melse\u001b[0m\u001b[0;34m:\u001b[0m\u001b[0;34m\u001b[0m\u001b[0m\n\u001b[1;32m   1319\u001b[0m       \u001b[0;32mreturn\u001b[0m \u001b[0mself\u001b[0m\u001b[0;34m.\u001b[0m\u001b[0m_do_call\u001b[0m\u001b[0;34m(\u001b[0m\u001b[0m_prun_fn\u001b[0m\u001b[0;34m,\u001b[0m \u001b[0mself\u001b[0m\u001b[0;34m.\u001b[0m\u001b[0m_session\u001b[0m\u001b[0;34m,\u001b[0m \u001b[0mhandle\u001b[0m\u001b[0;34m,\u001b[0m \u001b[0mfeeds\u001b[0m\u001b[0;34m,\u001b[0m \u001b[0mfetches\u001b[0m\u001b[0;34m)\u001b[0m\u001b[0;34m\u001b[0m\u001b[0m\n",
      "\u001b[0;32m/home/mingzeng/anaconda2/lib/python2.7/site-packages/tensorflow/python/client/session.pyc\u001b[0m in \u001b[0;36m_do_call\u001b[0;34m(self, fn, *args)\u001b[0m\n\u001b[1;32m   1321\u001b[0m   \u001b[0;32mdef\u001b[0m \u001b[0m_do_call\u001b[0m\u001b[0;34m(\u001b[0m\u001b[0mself\u001b[0m\u001b[0;34m,\u001b[0m \u001b[0mfn\u001b[0m\u001b[0;34m,\u001b[0m \u001b[0;34m*\u001b[0m\u001b[0margs\u001b[0m\u001b[0;34m)\u001b[0m\u001b[0;34m:\u001b[0m\u001b[0;34m\u001b[0m\u001b[0m\n\u001b[1;32m   1322\u001b[0m     \u001b[0;32mtry\u001b[0m\u001b[0;34m:\u001b[0m\u001b[0;34m\u001b[0m\u001b[0m\n\u001b[0;32m-> 1323\u001b[0;31m       \u001b[0;32mreturn\u001b[0m \u001b[0mfn\u001b[0m\u001b[0;34m(\u001b[0m\u001b[0;34m*\u001b[0m\u001b[0margs\u001b[0m\u001b[0;34m)\u001b[0m\u001b[0;34m\u001b[0m\u001b[0m\n\u001b[0m\u001b[1;32m   1324\u001b[0m     \u001b[0;32mexcept\u001b[0m \u001b[0merrors\u001b[0m\u001b[0;34m.\u001b[0m\u001b[0mOpError\u001b[0m \u001b[0;32mas\u001b[0m \u001b[0me\u001b[0m\u001b[0;34m:\u001b[0m\u001b[0;34m\u001b[0m\u001b[0m\n\u001b[1;32m   1325\u001b[0m       \u001b[0mmessage\u001b[0m \u001b[0;34m=\u001b[0m \u001b[0mcompat\u001b[0m\u001b[0;34m.\u001b[0m\u001b[0mas_text\u001b[0m\u001b[0;34m(\u001b[0m\u001b[0me\u001b[0m\u001b[0;34m.\u001b[0m\u001b[0mmessage\u001b[0m\u001b[0;34m)\u001b[0m\u001b[0;34m\u001b[0m\u001b[0m\n",
      "\u001b[0;32m/home/mingzeng/anaconda2/lib/python2.7/site-packages/tensorflow/python/client/session.pyc\u001b[0m in \u001b[0;36m_run_fn\u001b[0;34m(session, feed_dict, fetch_list, target_list, options, run_metadata)\u001b[0m\n\u001b[1;32m   1300\u001b[0m           return tf_session.TF_Run(session, options,\n\u001b[1;32m   1301\u001b[0m                                    \u001b[0mfeed_dict\u001b[0m\u001b[0;34m,\u001b[0m \u001b[0mfetch_list\u001b[0m\u001b[0;34m,\u001b[0m \u001b[0mtarget_list\u001b[0m\u001b[0;34m,\u001b[0m\u001b[0;34m\u001b[0m\u001b[0m\n\u001b[0;32m-> 1302\u001b[0;31m                                    status, run_metadata)\n\u001b[0m\u001b[1;32m   1303\u001b[0m \u001b[0;34m\u001b[0m\u001b[0m\n\u001b[1;32m   1304\u001b[0m     \u001b[0;32mdef\u001b[0m \u001b[0m_prun_fn\u001b[0m\u001b[0;34m(\u001b[0m\u001b[0msession\u001b[0m\u001b[0;34m,\u001b[0m \u001b[0mhandle\u001b[0m\u001b[0;34m,\u001b[0m \u001b[0mfeed_dict\u001b[0m\u001b[0;34m,\u001b[0m \u001b[0mfetch_list\u001b[0m\u001b[0;34m)\u001b[0m\u001b[0;34m:\u001b[0m\u001b[0;34m\u001b[0m\u001b[0m\n",
      "\u001b[0;31mKeyboardInterrupt\u001b[0m: "
     ]
    }
   ],
   "source": [
    "use_feature = False\n",
    "emb_steps = 10000 #50000001\n",
    "clf_steps = 1000\n",
    "\n",
    "total_step = 0\n",
    "with tf.Session(graph=graph) as session:\n",
    "    tf.global_variables_initializer().run()\n",
    "    print('Initialized')\n",
    "    while (True):\n",
    "        average_emb_loss = 0\n",
    "        average_clf_loss = 0\n",
    "        for step in range(emb_steps):\n",
    "            batch_data, batch_labels = generate_batch(\n",
    "                batch_path_size=batch_path_size, num_skips=num_skips, skip_window=skip_window)\n",
    "            feed_dict = {train_dataset : batch_data, train_labels : batch_labels}\n",
    "            _, l = session.run([optimizer, loss], feed_dict=feed_dict)\n",
    "            average_emb_loss += l\n",
    "            if step % 2000 == 0:\n",
    "                if step > 0:\n",
    "                    average_emb_loss = average_emb_loss / 2000.0\n",
    "                # The average loss is an estimate of the loss over the last 2000 batches.\n",
    "                print('Average embedding loss at step %d: %f, lr %f' % (step, average_emb_loss, 0.25))\n",
    "                average_emb_loss = 0\n",
    "                \n",
    "        for step in range(clf_steps):\n",
    "            # for datasets in the icml paper\n",
    "            feed_dict = {clf_idx : trn_idx, clf_y : trn_y, feature_dataset : trn_f}\n",
    "            _, l = session.run([clf_optimizer, clf_loss], feed_dict=feed_dict)\n",
    "            average_clf_loss += l\n",
    "            if step % 1000 == 0:\n",
    "                if step > 0:\n",
    "                    average_clf_loss = average_clf_loss / 1000.0\n",
    "                # The average loss is an estimate of the loss over the last 2000 batches.\n",
    "                print('Average classification loss at step %d: %f, lr %f' % (step, average_clf_loss, 0.25))\n",
    "                average_clf_loss = 0\n",
    "                \n",
    "        # note that this is expensive (~20% slowdown if computed every 500 steps)\n",
    "#         y_p = tf.argmax(logit_y, 1)\n",
    "#         feed_dict = {clf_x : tst_x, clf_y : tst_y}\n",
    "#         _, l, res_logit_y = session.run([clf_optimizer, clf_loss, logit_y], feed_dict=feed_dict)\n",
    "#         y_true = np.argmax(tst_y,1)\n",
    "#         print(\"micro: \", f1_score(y_true, res_pred_y, average='micro'))\n",
    "#         print(\"macro: \", f1_score(y_true, res_pred_y, average='macro'))\n",
    "\n",
    "        res_y_pred = tf.argmax(logit_y, 1)\n",
    "        res_y_true = tf.argmax(clf_y, 1)\n",
    "#         correct_prediction = tf.equal(tf.argmax(logit_y), tf.argmax(clf_y))\n",
    "#         accuracy = tf.reduce_mean(tf.cast(correct_prediction, tf.float32))\n",
    "#         print(\"Epoch %s:\" % total_step, \n",
    "#               accuracy.eval({clf_x: trn_x, clf_y: trn_y}),\n",
    "#               accuracy.eval({clf_x: tst_x, clf_y: tst_y}))\n",
    "        \n",
    "        trn_y_pred = res_y_pred.eval({clf_idx : trn_idx, clf_y: trn_y, feature_dataset : trn_f})\n",
    "        trn_y_ture = res_y_true.eval({clf_idx : trn_idx, clf_y: trn_y, feature_dataset : trn_f})\n",
    "        tst_y_pred = res_y_pred.eval({clf_idx : tst_idx, clf_y: tst_y, feature_dataset : tst_f})\n",
    "        tst_y_ture = res_y_true.eval({clf_idx : tst_idx, clf_y: tst_y, feature_dataset : tst_f})\n",
    "        \n",
    "        print(\"Epoch %d, trn acc %.6f acc %.6f:\" % (total_step,\n",
    "                                                  accuracy_score(trn_y_ture, trn_y_pred.flatten()),\n",
    "                                                  accuracy_score(tst_y_ture, tst_y_pred.flatten())))\n",
    "        \n",
    "        if total_step % 1 == 0:\n",
    "            embedding_filename = '/hdd2/graph_embedding/customized/results/exp_citeseer_semi/citeseer_embeddings_iter%d.txt' %total_step\n",
    "            not_normal_embeddings = embeddings.eval()\n",
    "            ordered_embeddings = [not_normal_embeddings[dictionary[str(node)]] for node in range(len(dictionary))]\n",
    "            np.savetxt(embedding_filename, ordered_embeddings)\n",
    "        \n",
    "        total_step += 1\n",
    "            \n",
    "\n",
    "    final_embeddings = normalized_embeddings.eval()\n",
    "    not_normal_embeddings = embeddings.eval()"
   ]
  },
  {
   "cell_type": "code",
   "execution_count": 308,
   "metadata": {
    "collapsed": false
   },
   "outputs": [
    {
     "data": {
      "text/plain": [
       "TensorShape([Dimension(None), Dimension(6)])"
      ]
     },
     "execution_count": 308,
     "metadata": {},
     "output_type": "execute_result"
    }
   ],
   "source": [
    "logit_y.shape"
   ]
  },
  {
   "cell_type": "code",
   "execution_count": null,
   "metadata": {
    "collapsed": false
   },
   "outputs": [],
   "source": []
  },
  {
   "cell_type": "code",
   "execution_count": 242,
   "metadata": {
    "collapsed": false
   },
   "outputs": [
    {
     "ename": "NameError",
     "evalue": "name 'final_embeddings' is not defined",
     "output_type": "error",
     "traceback": [
      "\u001b[0;31m---------------------------------------------------------------------------\u001b[0m",
      "\u001b[0;31mNameError\u001b[0m                                 Traceback (most recent call last)",
      "\u001b[0;32m<ipython-input-242-4da9b1bed20e>\u001b[0m in \u001b[0;36m<module>\u001b[0;34m()\u001b[0m\n\u001b[1;32m      1\u001b[0m \u001b[0membedding_filename\u001b[0m \u001b[0;34m=\u001b[0m \u001b[0;34m'/hdd2/graph_embedding/customized/blog_embeddings_1.txt'\u001b[0m\u001b[0;34m\u001b[0m\u001b[0m\n\u001b[0;32m----> 2\u001b[0;31m \u001b[0mordered_embeddings\u001b[0m \u001b[0;34m=\u001b[0m \u001b[0;34m[\u001b[0m\u001b[0mfinal_embeddings\u001b[0m\u001b[0;34m[\u001b[0m\u001b[0mdictionary\u001b[0m\u001b[0;34m[\u001b[0m\u001b[0mstr\u001b[0m\u001b[0;34m(\u001b[0m\u001b[0mnode\u001b[0m\u001b[0;34m)\u001b[0m\u001b[0;34m]\u001b[0m\u001b[0;34m]\u001b[0m \u001b[0;32mfor\u001b[0m \u001b[0mnode\u001b[0m \u001b[0;32min\u001b[0m \u001b[0mrange\u001b[0m\u001b[0;34m(\u001b[0m\u001b[0mlen\u001b[0m\u001b[0;34m(\u001b[0m\u001b[0mdictionary\u001b[0m\u001b[0;34m)\u001b[0m\u001b[0;34m)\u001b[0m\u001b[0;34m]\u001b[0m\u001b[0;34m\u001b[0m\u001b[0m\n\u001b[0m\u001b[1;32m      3\u001b[0m \u001b[0mnp\u001b[0m\u001b[0;34m.\u001b[0m\u001b[0msavetxt\u001b[0m\u001b[0;34m(\u001b[0m\u001b[0membedding_filename\u001b[0m\u001b[0;34m,\u001b[0m \u001b[0mordered_embeddings\u001b[0m\u001b[0;34m)\u001b[0m\u001b[0;34m\u001b[0m\u001b[0m\n",
      "\u001b[0;31mNameError\u001b[0m: name 'final_embeddings' is not defined"
     ]
    }
   ],
   "source": [
    "embedding_filename = '/hdd2/graph_embedding/customized/blog_embeddings_1.txt'\n",
    "ordered_embeddings = [final_embeddings[dictionary[str(node)]] for node in range(len(dictionary))]\n",
    "np.savetxt(embedding_filename, ordered_embeddings)"
   ]
  },
  {
   "cell_type": "code",
   "execution_count": 227,
   "metadata": {
    "collapsed": false
   },
   "outputs": [
    {
     "data": {
      "text/plain": [
       "array([ 0.47477195,  0.47871515,  0.47899124,  0.4759534 ,  0.47790405,\n",
       "        0.47898862,  0.47662544,  0.48324525,  0.47535485,  0.47714397,\n",
       "        0.47675049,  0.47513527,  0.47733408,  0.4759779 ,  0.47573614,\n",
       "        0.47668341,  0.47703272,  0.47557175,  0.47846189,  0.47588319,\n",
       "        0.47464845,  0.47754869,  0.47674361,  0.48117602,  0.47582838,\n",
       "        0.47704467,  0.47620195,  0.47587633,  0.47659436,  0.47654676,\n",
       "        0.47580355,  0.47573981,  0.47579864,  0.47626203,  0.47682789,\n",
       "        0.47790003,  0.47652382,  0.47664452,  0.47489908], dtype=float32)"
      ]
     },
     "execution_count": 227,
     "metadata": {},
     "output_type": "execute_result"
    }
   ],
   "source": [
    "res_logit_y[0]"
   ]
  },
  {
   "cell_type": "code",
   "execution_count": 221,
   "metadata": {
    "collapsed": false
   },
   "outputs": [
    {
     "data": {
      "text/plain": [
       "array([[ 0.,  0.,  0., ...,  0.,  0.,  0.],\n",
       "       [ 0.,  0.,  0., ...,  0.,  0.,  0.],\n",
       "       [ 0.,  0.,  0., ...,  0.,  0.,  0.],\n",
       "       ..., \n",
       "       [ 0.,  1.,  0., ...,  0.,  0.,  0.],\n",
       "       [ 0.,  0.,  0., ...,  0.,  0.,  0.],\n",
       "       [ 0.,  0.,  0., ...,  0.,  0.,  0.]])"
      ]
     },
     "execution_count": 221,
     "metadata": {},
     "output_type": "execute_result"
    }
   ],
   "source": [
    "tst_y"
   ]
  },
  {
   "cell_type": "code",
   "execution_count": 259,
   "metadata": {
    "collapsed": false
   },
   "outputs": [],
   "source": [
    "embeddings = np.loadtxt(embedding_filename)"
   ]
  },
  {
   "cell_type": "code",
   "execution_count": 260,
   "metadata": {
    "collapsed": false
   },
   "outputs": [
    {
     "data": {
      "text/plain": [
       "array([ 58.47768402, -14.06970406, -11.84331131,   3.77727461,\n",
       "        27.18597221, -25.0004673 ,  65.72541809, -65.32319641,\n",
       "        46.84730148, -17.94046402,  -9.88634205,   4.96879911,\n",
       "       -39.52791977, -41.69575119,  74.56922913,   7.61631155,\n",
       "        23.03376389,  50.97651291, -33.59208679,  31.2266407 ,\n",
       "        81.93914032,  15.72993279,  -5.28370953,  17.18107605,\n",
       "       -75.29068756,  14.2514925 ,   7.94441748,  -4.89663982,\n",
       "       -51.30142212, -33.08482361, -32.42542267,   1.93974102,\n",
       "        46.80765533,   8.50759125,  10.44501019, -40.15472794,\n",
       "        -5.02595329, -36.50287247, -45.88523102, -79.72190094,\n",
       "       -17.26217461,   8.80545712, -52.35463333, -16.01053047,\n",
       "       -43.30438232, -39.79665756, -16.72794151,  34.34871674,\n",
       "        57.16449738,  -4.06061411, -72.57341003,  -7.9510541 ,\n",
       "        63.76834869,  43.05852509,   2.076653  , -98.20155334,\n",
       "        16.07836723,  46.57059479,  68.2883606 ,  -1.08950758,\n",
       "         5.00839376,   9.26826859,   8.00768375,  18.40788651,\n",
       "        57.93119049,  69.93483734, -30.36079407, -24.08821869,\n",
       "       -98.82420349,  56.28701782,  -6.49470615, -29.10713005,\n",
       "         9.16787815,  29.59499741,  82.98940277,  83.68479919,\n",
       "       -54.79275894,  25.96276855,  22.00436592, -61.77494812,\n",
       "       -33.84917831, -51.7205925 , -47.96949768, -18.86766052,\n",
       "       -10.83108044,   3.68754077,  65.11179352,  28.03749084,\n",
       "       -43.74489975,  14.33013916,  11.00716972,  48.05020142,\n",
       "       -17.2221508 ,  46.67128754,   9.17617607, -66.37744141,\n",
       "        28.96920204, -23.5886116 ,  48.79130173,   3.59684467,\n",
       "       -10.80480194,  -7.6785965 ,  23.84983635, -46.33642578,\n",
       "       -20.64024162,   0.37871927,  22.73223305,  52.55372238,\n",
       "        10.19163036, -11.5577383 ,  -4.63438082,   3.70495296,\n",
       "         7.59680653,  27.99442673,  29.33081055, -51.17831421,\n",
       "        59.33683395,  11.71917534,   9.37813663, -17.67382622,\n",
       "       -19.4407177 , -19.11290359, -16.30101204, -26.50016785,\n",
       "        37.48277664,   3.48921919,  24.05833054,  27.21180725])"
      ]
     },
     "execution_count": 260,
     "metadata": {},
     "output_type": "execute_result"
    }
   ],
   "source": [
    "embeddings[1209]"
   ]
  },
  {
   "cell_type": "code",
   "execution_count": 150,
   "metadata": {
    "collapsed": false
   },
   "outputs": [
    {
     "data": {
      "text/plain": [
       "array([    0,     1,     2, ..., 10308, 10309, 10310])"
      ]
     },
     "execution_count": 150,
     "metadata": {},
     "output_type": "execute_result"
    }
   ],
   "source": [
    "np.unique(dictionary.values())"
   ]
  },
  {
   "cell_type": "code",
   "execution_count": 152,
   "metadata": {
    "collapsed": false
   },
   "outputs": [
    {
     "data": {
      "text/plain": [
       "array([  0.00000000e+00,   1.00000000e+00,   2.00000000e+00, ...,\n",
       "         1.03090000e+04,   1.03100000e+04,   1.03110000e+04])"
      ]
     },
     "execution_count": 152,
     "metadata": {},
     "output_type": "execute_result"
    }
   ],
   "source": [
    "np.unique(dataset.flatten())"
   ]
  },
  {
   "cell_type": "code",
   "execution_count": 153,
   "metadata": {
    "collapsed": false
   },
   "outputs": [
    {
     "data": {
      "text/plain": [
       "10312"
      ]
     },
     "execution_count": 153,
     "metadata": {},
     "output_type": "execute_result"
    }
   ],
   "source": [
    "vocabulary_size"
   ]
  },
  {
   "cell_type": "code",
   "execution_count": 155,
   "metadata": {
    "collapsed": false
   },
   "outputs": [
    {
     "data": {
      "text/plain": [
       "10311"
      ]
     },
     "execution_count": 155,
     "metadata": {},
     "output_type": "execute_result"
    }
   ],
   "source": [
    "len(reverse_dictionary)"
   ]
  },
  {
   "cell_type": "code",
   "execution_count": null,
   "metadata": {
    "collapsed": true
   },
   "outputs": [],
   "source": []
  },
  {
   "cell_type": "code",
   "execution_count": null,
   "metadata": {
    "collapsed": true
   },
   "outputs": [],
   "source": []
  },
  {
   "cell_type": "code",
   "execution_count": null,
   "metadata": {
    "collapsed": true
   },
   "outputs": [],
   "source": []
  },
  {
   "cell_type": "code",
   "execution_count": null,
   "metadata": {
    "collapsed": true
   },
   "outputs": [],
   "source": []
  },
  {
   "cell_type": "code",
   "execution_count": null,
   "metadata": {
    "collapsed": true
   },
   "outputs": [],
   "source": []
  },
  {
   "cell_type": "code",
   "execution_count": 270,
   "metadata": {
    "collapsed": false
   },
   "outputs": [],
   "source": [
    "from keras.preprocessing import sequence\n",
    "from keras.preprocessing.sequence import skipgrams"
   ]
  },
  {
   "cell_type": "code",
   "execution_count": 273,
   "metadata": {
    "collapsed": false
   },
   "outputs": [
    {
     "ename": "KeyboardInterrupt",
     "evalue": "",
     "output_type": "error",
     "traceback": [
      "\u001b[0;31m---------------------------------------------------------------------------\u001b[0m",
      "\u001b[0;31mKeyboardInterrupt\u001b[0m                         Traceback (most recent call last)",
      "\u001b[0;31mKeyboardInterrupt\u001b[0m: "
     ]
    }
   ],
   "source": [
    "sampling_table = sequence.make_sampling_table(vocabulary_size)\n",
    "couples, labels = skipgrams(data, vocabulary_size, window_size=10, sampling_table=sampling_table, negative_samples=5)\n",
    "# word_target, word_context = zip(*couples)\n",
    "# word_target = np.array(word_target, dtype=\"int32\")\n",
    "# word_context = np.array(word_context, dtype=\"int32\")\n",
    "\n",
    "# print(couples[:10], labels[:10])"
   ]
  },
  {
   "cell_type": "code",
   "execution_count": 26,
   "metadata": {
    "collapsed": false
   },
   "outputs": [],
   "source": [
    "# create some input variables\n",
    "input_target = Input((1,))\n",
    "input_context = Input((1,))\n",
    "\n",
    "embedding = Embedding(vocab_size, vector_dim, input_length=1, name='embedding')\n",
    "\n",
    "target = embedding(input_target)\n",
    "target = Reshape((vector_dim, 1))(target)\n",
    "context = embedding(input_context)\n",
    "context = Reshape((vector_dim, 1))(context)"
   ]
  },
  {
   "cell_type": "code",
   "execution_count": 36,
   "metadata": {
    "collapsed": false
   },
   "outputs": [
    {
     "name": "stdout",
     "output_type": "stream",
     "text": [
      "824960\n"
     ]
    }
   ],
   "source": [
    "i = 0\n",
    "for line in walks_corpus:\n",
    "    i += 1\n",
    "print(i)"
   ]
  },
  {
   "cell_type": "code",
   "execution_count": 21,
   "metadata": {
    "collapsed": false
   },
   "outputs": [],
   "source": [
    "# model = Skipgram(sentences=walks_corpus, vocabulary_counts=vocabulary_size, size=128,\n",
    "#                  window=10, min_count=0, trim_rule=None, workers=1)"
   ]
  },
  {
   "cell_type": "code",
   "execution_count": 31,
   "metadata": {
    "collapsed": false
   },
   "outputs": [
    {
     "data": {
      "text/plain": [
       "1"
      ]
     },
     "execution_count": 31,
     "metadata": {},
     "output_type": "execute_result"
    }
   ],
   "source": [
    "1"
   ]
  },
  {
   "cell_type": "code",
   "execution_count": 89,
   "metadata": {
    "collapsed": true
   },
   "outputs": [],
   "source": [
    "def sparse2graph(x):\n",
    "    G = defaultdict(lambda: set())\n",
    "    cx = x.tocoo()\n",
    "    for i,j,v in zip(cx.row, cx.col, cx.data):\n",
    "        G[i].add(j)\n",
    "    return {str(k): [str(x) for x in v] for k,v in iteritems(G)}"
   ]
  },
  {
   "cell_type": "code",
   "execution_count": 90,
   "metadata": {
    "collapsed": true
   },
   "outputs": [],
   "source": [
    "class TopKRanker(OneVsRestClassifier):\n",
    "    def predict(self, X, top_k_list):\n",
    "        assert X.shape[0] == len(top_k_list)\n",
    "        probs = np.asarray(super(TopKRanker, self).predict_proba(X))\n",
    "        all_labels = []\n",
    "        for i, k in enumerate(top_k_list):\n",
    "            probs_ = probs[i, :]\n",
    "            labels = self.classes_[probs_.argsort()[-k:]].tolist()\n",
    "            all_labels.append(labels)\n",
    "        return all_labels"
   ]
  },
  {
   "cell_type": "code",
   "execution_count": 134,
   "metadata": {
    "collapsed": false
   },
   "outputs": [],
   "source": [
    "def scoring(emb_filename, matfile):\n",
    "    # 0. Files\n",
    "    embeddings_file = emb_filename\n",
    "\n",
    "    # 1. Load Embeddings\n",
    "#     embeddings = np.loadtxt(embeddings_file)\n",
    "    \n",
    "    ## for original deepwalk\n",
    "    #model = KeyedVectors.load_word2vec_format(embeddings_file, binary=False)\n",
    "    \n",
    "    ## for external word2vec lib\n",
    "    model = word2vec.load('/hdd2/graph_embedding/tmp/blogcatalog.embeddings.walks.0.bin')\n",
    "\n",
    "    # 2. Load labels\n",
    "    mat = sio.loadmat(matfile)\n",
    "    A = mat['network']\n",
    "    graph = sparse2graph(A)\n",
    "    labels_matrix = mat['group']\n",
    "    labels_count = labels_matrix.shape[1]\n",
    "    mlb = MultiLabelBinarizer(range(labels_count))\n",
    "\n",
    "    # Map nodes to their features (note:  assumes nodes are labeled as integers 1:N)\n",
    "#     features_matrix = embeddings\n",
    "\n",
    "#     features_matrix = np.asarray([model[str(node)] for node in range(len(graph))])\n",
    "\n",
    "    # use other word2vec lib\n",
    "    features_matrix = np.asarray([model[str(node)] for node in xrange(len(model.vocab)-1)])\n",
    "    \n",
    "    # 2. Shuffle, to create train/test groups\n",
    "    shuffles = []\n",
    "    for x in range(1):\n",
    "        shuffles.append(skshuffle(features_matrix, labels_matrix))\n",
    "\n",
    "    # 3. to score each train/test group\n",
    "    all_results = defaultdict(list)\n",
    "\n",
    "#     if args.all:\n",
    "#         training_percents = numpy.asarray(range(1, 10)) * .1\n",
    "#     else:\n",
    "#         training_percents = [0.1, 0.5, 0.9]\n",
    "    training_percents = [0.1]\n",
    "    for train_percent in training_percents:\n",
    "        for shuf in shuffles:\n",
    "            \n",
    "            X, y = shuf\n",
    "\n",
    "            training_size = int(train_percent * X.shape[0])\n",
    "\n",
    "            X_train = X[:training_size, :]\n",
    "            y_train_ = y[:training_size]\n",
    "\n",
    "            y_train = [[] for x in range(y_train_.shape[0])]\n",
    "\n",
    "\n",
    "            cy =  y_train_.tocoo()\n",
    "            for i, j in zip(cy.row, cy.col):\n",
    "                y_train[i].append(j)\n",
    "\n",
    "            assert sum(len(l) for l in y_train) == y_train_.nnz\n",
    "\n",
    "            X_test = X[training_size:, :]\n",
    "            y_test_ = y[training_size:]\n",
    "\n",
    "            y_test = [[] for _ in range(y_test_.shape[0])]\n",
    "\n",
    "            cy =  y_test_.tocoo()\n",
    "            for i, j in zip(cy.row, cy.col):\n",
    "                y_test[i].append(j)\n",
    "\n",
    "            clf = TopKRanker(LogisticRegression())\n",
    "            clf.fit(X_train, y_train_)\n",
    "\n",
    "            # find out how many labels should be predicted\n",
    "            top_k_list = [len(l) for l in y_test]\n",
    "            preds = clf.predict(X_test, top_k_list)\n",
    "\n",
    "            results = {}\n",
    "            averages = [\"micro\", \"macro\"]\n",
    "            for average in averages:\n",
    "                results[average] = f1_score(mlb.fit_transform(y_test), mlb.fit_transform(preds), average=average)\n",
    "\n",
    "            all_results[train_percent].append(results)\n",
    "\n",
    "    print ('Results, using embeddings of dimensionality', X.shape[1])\n",
    "    print ('-------------------')\n",
    "    for train_percent in sorted(all_results.keys()):\n",
    "        print ('Train percent:', train_percent)\n",
    "    for index, result in enumerate(all_results[train_percent]):\n",
    "        print ('Shuffle #%d:   ' % (index + 1), result)\n",
    "    avg_score = defaultdict(float)\n",
    "    for score_dict in all_results[train_percent]:\n",
    "        for metric, score in iteritems(score_dict):\n",
    "            avg_score[metric] += score\n",
    "    for metric in avg_score:\n",
    "        avg_score[metric] /= len(all_results[train_percent])\n",
    "    print ('Average score:', dict(avg_score))\n",
    "    print ('-------------------')"
   ]
  },
  {
   "cell_type": "code",
   "execution_count": null,
   "metadata": {
    "collapsed": true
   },
   "outputs": [],
   "source": []
  },
  {
   "cell_type": "code",
   "execution_count": 92,
   "metadata": {
    "collapsed": false
   },
   "outputs": [
    {
     "ename": "NameError",
     "evalue": "global name 'word2vec' is not defined",
     "output_type": "error",
     "traceback": [
      "\u001b[0;31m---------------------------------------------------------------------------\u001b[0m",
      "\u001b[0;31mNameError\u001b[0m                                 Traceback (most recent call last)",
      "\u001b[0;32m<ipython-input-92-8496e862a2a5>\u001b[0m in \u001b[0;36m<module>\u001b[0;34m()\u001b[0m\n\u001b[1;32m      4\u001b[0m \u001b[0membedding_filename_other_lib\u001b[0m \u001b[0;34m=\u001b[0m \u001b[0;34m'/hdd2/graph_embedding/tmp/blogcatalog.embeddings.walks.0.bin'\u001b[0m\u001b[0;34m\u001b[0m\u001b[0m\n\u001b[1;32m      5\u001b[0m \u001b[0;34m\u001b[0m\u001b[0m\n\u001b[0;32m----> 6\u001b[0;31m \u001b[0mscoring\u001b[0m\u001b[0;34m(\u001b[0m\u001b[0;34m''\u001b[0m\u001b[0;34m,\u001b[0m \u001b[0mmatfile\u001b[0m\u001b[0;34m)\u001b[0m\u001b[0;34m\u001b[0m\u001b[0m\n\u001b[0m",
      "\u001b[0;32m<ipython-input-91-e951e3ee7ec9>\u001b[0m in \u001b[0;36mscoring\u001b[0;34m(emb_filename, matfile)\u001b[0m\n\u001b[1;32m     10\u001b[0m \u001b[0;34m\u001b[0m\u001b[0m\n\u001b[1;32m     11\u001b[0m     \u001b[0;31m## for external word2vec lib\u001b[0m\u001b[0;34m\u001b[0m\u001b[0;34m\u001b[0m\u001b[0m\n\u001b[0;32m---> 12\u001b[0;31m     \u001b[0mmodel\u001b[0m \u001b[0;34m=\u001b[0m \u001b[0mword2vec\u001b[0m\u001b[0;34m.\u001b[0m\u001b[0mload\u001b[0m\u001b[0;34m(\u001b[0m\u001b[0;34m'/hdd2/graph_embedding/tmp/blogcatalog.embeddings.walks.0.bin'\u001b[0m\u001b[0;34m)\u001b[0m\u001b[0;34m\u001b[0m\u001b[0m\n\u001b[0m\u001b[1;32m     13\u001b[0m \u001b[0;34m\u001b[0m\u001b[0m\n\u001b[1;32m     14\u001b[0m     \u001b[0;31m# 2. Load labels\u001b[0m\u001b[0;34m\u001b[0m\u001b[0;34m\u001b[0m\u001b[0m\n",
      "\u001b[0;31mNameError\u001b[0m: global name 'word2vec' is not defined"
     ]
    }
   ],
   "source": [
    "matfile = '/hdd2/graph_embedding/deepwalk/example_graphs/blogcatalog.mat'\n",
    "embedding_filename = '/hdd2/graph_embedding/customized/blog_embeddings.iter2.txt'\n",
    "embedding_filename_original = '/hdd2/graph_embedding/customized/model_ns5_iter1.output'\n",
    "embedding_filename_other_lib = '/hdd2/graph_embedding/tmp/blogcatalog.embeddings.walks.0.bin'\n",
    "\n",
    "scoring('', matfile)"
   ]
  },
  {
   "cell_type": "code",
   "execution_count": 23,
   "metadata": {
    "collapsed": false
   },
   "outputs": [],
   "source": [
    "embedding_filename_original = '/hdd2/graph_embedding/customized/model_ns5_iter1.output'\n",
    "model = KeyedVectors.load_word2vec_format(embedding_filename_original, binary=False)\n",
    "                                          \n",
    "embedding_filename = '/hdd2/graph_embedding/customized/blog_embeddings.iter2.txt'\n",
    "embeddings = np.loadtxt(embedding_filename)\n"
   ]
  },
  {
   "cell_type": "code",
   "execution_count": 22,
   "metadata": {
    "collapsed": false
   },
   "outputs": [
    {
     "data": {
      "text/plain": [
       "array([ 0.110529  ,  0.19354101,  0.3969    ,  0.16305301, -0.198276  ,\n",
       "       -0.219273  ,  0.045498  ,  0.138824  , -0.174495  ,  0.20618799,\n",
       "        0.48984301,  0.302856  , -0.46013999,  0.227097  ,  0.071323  ,\n",
       "       -0.43010399,  0.015921  , -0.021136  ,  0.28175899, -0.26225701,\n",
       "        0.102745  , -0.31963301,  0.058964  ,  0.132149  ,  0.176946  ,\n",
       "       -0.155433  ,  0.160973  , -0.282166  ,  0.030017  , -0.165079  ,\n",
       "        0.25168899, -0.52189702,  0.005448  ,  0.18592501, -0.013992  ,\n",
       "       -0.070675  ,  0.033961  ,  0.117675  , -0.073083  ,  0.068748  ,\n",
       "       -0.10755   ,  0.068676  ,  0.17162   , -0.136898  ,  0.17979699,\n",
       "       -0.106551  , -0.212037  ,  0.103523  , -0.242975  , -0.46731299,\n",
       "        0.182107  ,  0.092075  , -0.141946  ,  0.051342  ,  0.31653801,\n",
       "        0.28085399, -0.029812  ,  0.19881   ,  0.31846499, -0.12293   ,\n",
       "        0.22415499, -0.21315201, -0.220193  , -0.15813901,  0.104372  ,\n",
       "       -0.038969  ,  0.020534  , -0.18385699, -0.049377  ,  0.241363  ,\n",
       "        0.15504301,  0.27251899, -0.20202599,  0.074011  ,  0.248133  ,\n",
       "       -0.015073  ,  0.046193  , -0.124894  , -0.06814   , -0.128296  ,\n",
       "        0.020906  , -0.07755   , -0.172672  ,  0.032093  ,  0.156846  ,\n",
       "       -0.019415  ,  0.051345  , -0.13377801, -0.195548  ,  0.128029  ,\n",
       "        0.066909  ,  0.13171799, -0.214425  ,  0.097262  , -0.20645601,\n",
       "       -0.114667  , -0.193297  , -0.218493  , -0.14356001, -0.06486   ,\n",
       "        0.078362  ,  0.043282  , -0.195365  ,  0.035029  , -0.100952  ,\n",
       "        0.028167  , -0.254026  ,  0.080769  ,  0.138097  , -0.118832  ,\n",
       "        0.22276799, -0.099504  ,  0.045412  ,  0.141414  ,  0.123148  ,\n",
       "        0.13963801, -0.004271  ,  0.172041  ,  0.12623601,  0.24216899,\n",
       "       -0.219863  ,  0.27274099,  0.026154  ,  0.10464   , -0.023742  ,\n",
       "       -0.206168  , -0.33293399, -0.034799  ], dtype=float32)"
      ]
     },
     "execution_count": 22,
     "metadata": {},
     "output_type": "execute_result"
    }
   ],
   "source": [
    "model['0']"
   ]
  },
  {
   "cell_type": "code",
   "execution_count": 26,
   "metadata": {
    "collapsed": false
   },
   "outputs": [
    {
     "data": {
      "text/plain": [
       "array([ -1.47322476e-01,   2.67052501e-02,   1.52672976e-02,\n",
       "        -1.37635857e-01,  -6.47586957e-02,  -2.46349778e-02,\n",
       "        -8.18009302e-02,   6.91710338e-02,  -9.66271833e-02,\n",
       "        -9.89247933e-02,   5.70955575e-02,   1.53366596e-01,\n",
       "         8.30798447e-02,  -1.44452751e-01,   9.11711424e-04,\n",
       "         1.01996966e-01,   4.97803837e-02,  -4.91250493e-02,\n",
       "         1.03872299e-01,  -1.11238003e-01,   3.35200056e-02,\n",
       "         6.37169033e-02,  -3.92291024e-02,  -2.92820130e-02,\n",
       "        -2.85616820e-03,  -3.53677608e-02,  -5.77375665e-02,\n",
       "        -3.55093554e-02,   4.43368331e-02,  -1.63600937e-01,\n",
       "        -5.06901741e-02,   1.09737791e-01,  -6.03695633e-03,\n",
       "        -9.09792027e-04,  -9.44678709e-02,  -5.35581484e-02,\n",
       "         5.67527264e-02,  -2.60556079e-02,   1.89456977e-02,\n",
       "         2.38609854e-02,   4.84210551e-02,   1.34210438e-01,\n",
       "        -1.30895942e-01,   6.51589632e-02,   6.92558140e-02,\n",
       "        -5.88307390e-03,  -1.87402926e-02,   1.52439341e-01,\n",
       "        -7.65966475e-02,  -1.14347152e-02,  -5.93073331e-02,\n",
       "         3.97681519e-02,  -2.26105414e-02,  -1.00840345e-01,\n",
       "        -2.73720361e-02,  -1.35795742e-01,  -7.55931512e-02,\n",
       "         6.89051822e-02,  -9.89682674e-02,   8.19836278e-03,\n",
       "         9.56752300e-02,   1.11364149e-01,  -5.73285446e-02,\n",
       "        -7.95298442e-02,  -6.94709942e-02,   1.97762456e-02,\n",
       "        -7.93395117e-02,   5.48537821e-02,  -7.36792460e-02,\n",
       "         4.13507484e-02,   1.48582190e-01,  -1.37633294e-01,\n",
       "        -1.10649310e-01,   5.96768968e-02,   9.31203440e-02,\n",
       "         1.78780377e-01,  -1.70841515e-01,   9.95152742e-02,\n",
       "         9.34500918e-02,   1.38932645e-01,  -1.15846768e-01,\n",
       "         3.72944437e-02,  -1.21906027e-01,  -1.49959236e-01,\n",
       "        -6.60825595e-02,   8.33349824e-02,   2.63328534e-02,\n",
       "         3.53457741e-02,   1.41411439e-01,  -7.07744882e-02,\n",
       "         1.21387757e-01,   5.68825640e-02,  -1.21080384e-01,\n",
       "         1.42978668e-01,  -1.67644396e-01,   1.68275498e-02,\n",
       "        -9.96617302e-02,   4.47709225e-02,   2.08472624e-01,\n",
       "        -1.08954571e-01,  -8.83026272e-02,  -1.23706110e-01,\n",
       "        -5.51782846e-02,   1.30027205e-01,   5.61708212e-02,\n",
       "         7.12516978e-02,   3.37933712e-02,   8.94594342e-02,\n",
       "         1.06588854e-02,  -2.62339506e-02,   4.57158871e-02,\n",
       "        -2.36465354e-02,   1.83984548e-01,  -5.11433706e-02,\n",
       "         1.30957412e-02,   1.15885787e-01,   1.39660118e-02,\n",
       "         2.78853234e-02,  -1.25376284e-01,  -4.51841056e-02,\n",
       "         2.44418718e-02,  -9.92230922e-02,   7.17640370e-02,\n",
       "        -5.39226495e-02,   9.22740158e-03,   1.02272414e-01,\n",
       "        -8.26397240e-02,   1.59677104e-04])"
      ]
     },
     "execution_count": 26,
     "metadata": {},
     "output_type": "execute_result"
    }
   ],
   "source": [
    "embeddings[0]"
   ]
  },
  {
   "cell_type": "code",
   "execution_count": null,
   "metadata": {
    "collapsed": true
   },
   "outputs": [],
   "source": []
  },
  {
   "cell_type": "code",
   "execution_count": 7,
   "metadata": {
    "collapsed": false
   },
   "outputs": [],
   "source": [
    "mat = sio.loadmat(matfile)\n",
    "A = mat['network']\n",
    "labels_matrix = mat['group']\n",
    "labels_count = labels_matrix.shape[1]\n",
    "mlb = MultiLabelBinarizer(range(labels_count))"
   ]
  },
  {
   "cell_type": "code",
   "execution_count": 14,
   "metadata": {
    "collapsed": false
   },
   "outputs": [
    {
     "ename": "TypeError",
     "evalue": "'MultiLabelBinarizer' object is not iterable",
     "output_type": "error",
     "traceback": [
      "\u001b[0;31m---------------------------------------------------------------------------\u001b[0m",
      "\u001b[0;31mTypeError\u001b[0m                                 Traceback (most recent call last)",
      "\u001b[0;32m<ipython-input-14-fd4e0751c0ab>\u001b[0m in \u001b[0;36m<module>\u001b[0;34m()\u001b[0m\n\u001b[0;32m----> 1\u001b[0;31m \u001b[0mlist\u001b[0m\u001b[0;34m(\u001b[0m\u001b[0mmlb\u001b[0m\u001b[0;34m)\u001b[0m\u001b[0;34m\u001b[0m\u001b[0m\n\u001b[0m",
      "\u001b[0;31mTypeError\u001b[0m: 'MultiLabelBinarizer' object is not iterable"
     ]
    }
   ],
   "source": []
  },
  {
   "cell_type": "code",
   "execution_count": 27,
   "metadata": {
    "collapsed": false
   },
   "outputs": [],
   "source": [
    "# import modules & set up logging\n",
    "import gensim, logging\n",
    "\n",
    "logging.basicConfig(format='%(asctime)s : %(levelname)s : %(message)s', level=logging.INFO)"
   ]
  },
  {
   "cell_type": "code",
   "execution_count": 28,
   "metadata": {
    "collapsed": false
   },
   "outputs": [
    {
     "name": "stderr",
     "output_type": "stream",
     "text": [
      "2018-03-13 21:07:11,853 : INFO : collecting all words and their counts\n",
      "2018-03-13 21:07:11,855 : INFO : PROGRESS: at sentence #0, processed 0 words, keeping 0 word types\n",
      "2018-03-13 21:07:11,857 : INFO : collected 3 word types from a corpus of 4 raw words and 2 sentences\n",
      "2018-03-13 21:07:11,858 : INFO : Loading a fresh vocabulary\n",
      "2018-03-13 21:07:11,860 : INFO : min_count=1 retains 3 unique words (100% of original 3, drops 0)\n",
      "2018-03-13 21:07:11,863 : INFO : min_count=1 leaves 4 word corpus (100% of original 4, drops 0)\n",
      "2018-03-13 21:07:11,865 : INFO : deleting the raw counts dictionary of 3 items\n",
      "2018-03-13 21:07:11,868 : INFO : sample=0.001 downsamples 3 most-common words\n",
      "2018-03-13 21:07:11,870 : INFO : downsampling leaves estimated 0 word corpus (5.7% of prior 4)\n",
      "2018-03-13 21:07:11,872 : INFO : estimated required memory for 3 words and 100 dimensions: 3900 bytes\n",
      "2018-03-13 21:07:11,874 : INFO : resetting layer weights\n",
      "2018-03-13 21:07:11,876 : INFO : training model with 3 workers on 3 vocabulary and 100 features, using sg=0 hs=0 sample=0.001 negative=5 window=5\n",
      "2018-03-13 21:07:11,879 : INFO : worker thread finished; awaiting finish of 2 more threads\n",
      "2018-03-13 21:07:11,880 : INFO : worker thread finished; awaiting finish of 1 more threads\n",
      "2018-03-13 21:07:11,881 : INFO : worker thread finished; awaiting finish of 0 more threads\n",
      "2018-03-13 21:07:11,883 : INFO : EPOCH - 1 : training on 4 raw words (0 effective words) took 0.0s, 0 effective words/s\n",
      "2018-03-13 21:07:11,886 : INFO : worker thread finished; awaiting finish of 2 more threads\n",
      "2018-03-13 21:07:11,888 : INFO : worker thread finished; awaiting finish of 1 more threads\n",
      "2018-03-13 21:07:11,890 : INFO : worker thread finished; awaiting finish of 0 more threads\n",
      "2018-03-13 21:07:11,892 : INFO : EPOCH - 2 : training on 4 raw words (0 effective words) took 0.0s, 0 effective words/s\n",
      "2018-03-13 21:07:11,894 : INFO : worker thread finished; awaiting finish of 2 more threads\n",
      "2018-03-13 21:07:11,896 : INFO : worker thread finished; awaiting finish of 1 more threads\n",
      "2018-03-13 21:07:11,898 : INFO : worker thread finished; awaiting finish of 0 more threads\n",
      "2018-03-13 21:07:11,900 : INFO : EPOCH - 3 : training on 4 raw words (1 effective words) took 0.0s, 183 effective words/s\n",
      "2018-03-13 21:07:11,903 : INFO : worker thread finished; awaiting finish of 2 more threads\n",
      "2018-03-13 21:07:11,904 : INFO : worker thread finished; awaiting finish of 1 more threads\n",
      "2018-03-13 21:07:11,906 : INFO : worker thread finished; awaiting finish of 0 more threads\n",
      "2018-03-13 21:07:11,907 : INFO : EPOCH - 4 : training on 4 raw words (0 effective words) took 0.0s, 0 effective words/s\n",
      "2018-03-13 21:07:11,910 : INFO : worker thread finished; awaiting finish of 2 more threads\n",
      "2018-03-13 21:07:11,912 : INFO : worker thread finished; awaiting finish of 1 more threads\n",
      "2018-03-13 21:07:11,914 : INFO : worker thread finished; awaiting finish of 0 more threads\n",
      "2018-03-13 21:07:11,916 : INFO : EPOCH - 5 : training on 4 raw words (0 effective words) took 0.0s, 0 effective words/s\n",
      "2018-03-13 21:07:11,917 : INFO : training on a 20 raw words (1 effective words) took 0.0s, 25 effective words/s\n",
      "2018-03-13 21:07:11,918 : WARNING : under 10 jobs per worker: consider setting a smaller `batch_words' for smoother alpha decay\n"
     ]
    }
   ],
   "source": [
    "sentences = [['first', 'sentence'], ['second', 'sentence']]\n",
    "# train word2vec on the two sentences\n",
    "model = gensim.models.Word2Vec(sentences, min_count=1)"
   ]
  },
  {
   "cell_type": "code",
   "execution_count": null,
   "metadata": {
    "collapsed": true
   },
   "outputs": [],
   "source": []
  },
  {
   "cell_type": "code",
   "execution_count": 87,
   "metadata": {
    "collapsed": false
   },
   "outputs": [],
   "source": [
    "init_iter_label = 10\n",
    "init_iter_graph = 7\n",
    "inst_generator = gen_train_inst()\n",
    "graph_generator = gen_graph()\n",
    "# Generates pairs with the same label (1) or different labels (-1)\n",
    "label_generator = gen_label_graph()"
   ]
  },
  {
   "cell_type": "code",
   "execution_count": 17,
   "metadata": {
    "collapsed": false
   },
   "outputs": [],
   "source": [
    "max_iter = 1\n",
    "iter_graph = 0\n",
    "iter_inst = 5\n",
    "iter_label = 0\n",
    "use_reweight = False"
   ]
  },
  {
   "cell_type": "code",
   "execution_count": null,
   "metadata": {
    "collapsed": false
   },
   "outputs": [],
   "source": []
  },
  {
   "cell_type": "code",
   "execution_count": null,
   "metadata": {
    "collapsed": false
   },
   "outputs": [],
   "source": []
  },
  {
   "cell_type": "code",
   "execution_count": 92,
   "metadata": {
    "collapsed": false
   },
   "outputs": [],
   "source": [
    "# with tf.Session() as session:\n",
    "#     gx, gy = next(label_generator)\n",
    "#     tf.global_variables_initializer().run()\n",
    "#     feed_dict={g_sym: gx[:, 0], gy_sym: gx[:, 1].reshape(gx.shape[0],1)}\n",
    "#     _, loss = session.run([g_optimizer, g_loss], feed_dict=feed_dict)\n",
    "#     print 'iter label', i, loss"
   ]
  },
  {
   "cell_type": "code",
   "execution_count": 93,
   "metadata": {
    "collapsed": false
   },
   "outputs": [
    {
     "data": {
      "text/plain": [
       "array([ 0.00497301], dtype=float32)"
      ]
     },
     "execution_count": 93,
     "metadata": {},
     "output_type": "execute_result"
    }
   ],
   "source": [
    "res_reweight[0]"
   ]
  },
  {
   "cell_type": "code",
   "execution_count": 353,
   "metadata": {
    "collapsed": false
   },
   "outputs": [],
   "source": [
    "# with tf.Session() as session:\n",
    "# #     tf.global_variables_initializer().run()\n",
    "#     feed_dict={x_sym: xs, y_sym: ys}\n",
    "#     ll, l = session.run([optimizer, loss], feed_dict=feed_dict)"
   ]
  },
  {
   "cell_type": "code",
   "execution_count": 250,
   "metadata": {
    "collapsed": false
   },
   "outputs": [],
   "source": [
    "import word2vec"
   ]
  },
  {
   "cell_type": "code",
   "execution_count": 15,
   "metadata": {
    "collapsed": false
   },
   "outputs": [
    {
     "name": "stdout",
     "output_type": "stream",
     "text": [
      "Starting training using file /hdd2/graph_embedding/tmp/text8\n",
      "Words processed: 17000K     Vocab size: 4399K  \n",
      "Vocab size (unigrams + bigrams): 2419827\n",
      "Words in train file: 17005206\n"
     ]
    }
   ],
   "source": [
    "word2vec.word2phrase('/hdd2/graph_embedding/tmp/text8', '/hdd2/graph_embedding/tmp/text8-phrases', verbose=True)"
   ]
  },
  {
   "cell_type": "code",
   "execution_count": 16,
   "metadata": {
    "collapsed": false
   },
   "outputs": [
    {
     "name": "stdout",
     "output_type": "stream",
     "text": [
      "Starting training using file /hdd2/graph_embedding/tmp/text8-phrases\n",
      "Vocab size: 98331\n",
      "Words in train file: 15857306\n",
      "Alpha: 0.000002  Progress: 100.04%  Words/thread/sec: 467.25k  "
     ]
    }
   ],
   "source": [
    "word2vec.word2vec('/hdd2/graph_embedding/tmp/text8-phrases', '/hdd2/graph_embedding/tmp/text8.bin', size=100, verbose=True)"
   ]
  },
  {
   "cell_type": "code",
   "execution_count": 251,
   "metadata": {
    "collapsed": false
   },
   "outputs": [
    {
     "ename": "OSError",
     "evalue": "[Errno 7] Argument list too long",
     "output_type": "error",
     "traceback": [
      "\u001b[0;31m---------------------------------------------------------------------------\u001b[0m",
      "\u001b[0;31mOSError\u001b[0m                                   Traceback (most recent call last)",
      "\u001b[0;32m<ipython-input-251-bd9adf4b8805>\u001b[0m in \u001b[0;36m<module>\u001b[0;34m()\u001b[0m\n\u001b[1;32m      1\u001b[0m word2vec.word2vec(data,\n\u001b[1;32m      2\u001b[0m                   \u001b[0;34m'/hdd2/graph_embedding/tmp/blogcatalog.embeddings.walks.1.bin'\u001b[0m\u001b[0;34m,\u001b[0m\u001b[0;34m\u001b[0m\u001b[0m\n\u001b[0;32m----> 3\u001b[0;31m                   size=128, verbose=True)\n\u001b[0m",
      "\u001b[0;32m/home/mingzeng/anaconda2/lib/python2.7/site-packages/word2vec/scripts_interface.pyc\u001b[0m in \u001b[0;36mword2vec\u001b[0;34m(train, output, size, window, sample, hs, negative, threads, iter_, min_count, alpha, debug, binary, cbow, save_vocab, read_vocab, verbose)\u001b[0m\n\u001b[1;32m     69\u001b[0m         \u001b[0mcommand\u001b[0m\u001b[0;34m.\u001b[0m\u001b[0mappend\u001b[0m\u001b[0;34m(\u001b[0m\u001b[0mstr\u001b[0m\u001b[0;34m(\u001b[0m\u001b[0mread_vocab\u001b[0m\u001b[0;34m)\u001b[0m\u001b[0;34m)\u001b[0m\u001b[0;34m\u001b[0m\u001b[0m\n\u001b[1;32m     70\u001b[0m \u001b[0;34m\u001b[0m\u001b[0m\n\u001b[0;32m---> 71\u001b[0;31m     \u001b[0mrun_cmd\u001b[0m\u001b[0;34m(\u001b[0m\u001b[0mcommand\u001b[0m\u001b[0;34m,\u001b[0m \u001b[0mverbose\u001b[0m\u001b[0;34m=\u001b[0m\u001b[0mverbose\u001b[0m\u001b[0;34m)\u001b[0m\u001b[0;34m\u001b[0m\u001b[0m\n\u001b[0m\u001b[1;32m     72\u001b[0m \u001b[0;34m\u001b[0m\u001b[0m\n\u001b[1;32m     73\u001b[0m \u001b[0;34m\u001b[0m\u001b[0m\n",
      "\u001b[0;32m/home/mingzeng/anaconda2/lib/python2.7/site-packages/word2vec/scripts_interface.pyc\u001b[0m in \u001b[0;36mrun_cmd\u001b[0;34m(command, verbose)\u001b[0m\n\u001b[1;32m    140\u001b[0m \u001b[0;32mdef\u001b[0m \u001b[0mrun_cmd\u001b[0m\u001b[0;34m(\u001b[0m\u001b[0mcommand\u001b[0m\u001b[0;34m,\u001b[0m \u001b[0mverbose\u001b[0m\u001b[0;34m=\u001b[0m\u001b[0mFalse\u001b[0m\u001b[0;34m)\u001b[0m\u001b[0;34m:\u001b[0m\u001b[0;34m\u001b[0m\u001b[0m\n\u001b[1;32m    141\u001b[0m     proc = subprocess.Popen(command, stdout=subprocess.PIPE,\n\u001b[0;32m--> 142\u001b[0;31m                             stderr=subprocess.PIPE)\n\u001b[0m\u001b[1;32m    143\u001b[0m     \u001b[0;32mif\u001b[0m \u001b[0mverbose\u001b[0m\u001b[0;34m:\u001b[0m\u001b[0;34m\u001b[0m\u001b[0m\n\u001b[1;32m    144\u001b[0m         \u001b[0;32mfor\u001b[0m \u001b[0mline\u001b[0m \u001b[0;32min\u001b[0m \u001b[0mproc\u001b[0m\u001b[0;34m.\u001b[0m\u001b[0mstdout\u001b[0m\u001b[0;34m:\u001b[0m\u001b[0;34m\u001b[0m\u001b[0m\n",
      "\u001b[0;32m/home/mingzeng/anaconda2/lib/python2.7/subprocess.pyc\u001b[0m in \u001b[0;36m__init__\u001b[0;34m(self, args, bufsize, executable, stdin, stdout, stderr, preexec_fn, close_fds, shell, cwd, env, universal_newlines, startupinfo, creationflags)\u001b[0m\n\u001b[1;32m    709\u001b[0m                                 \u001b[0mp2cread\u001b[0m\u001b[0;34m,\u001b[0m \u001b[0mp2cwrite\u001b[0m\u001b[0;34m,\u001b[0m\u001b[0;34m\u001b[0m\u001b[0m\n\u001b[1;32m    710\u001b[0m                                 \u001b[0mc2pread\u001b[0m\u001b[0;34m,\u001b[0m \u001b[0mc2pwrite\u001b[0m\u001b[0;34m,\u001b[0m\u001b[0;34m\u001b[0m\u001b[0m\n\u001b[0;32m--> 711\u001b[0;31m                                 errread, errwrite)\n\u001b[0m\u001b[1;32m    712\u001b[0m         \u001b[0;32mexcept\u001b[0m \u001b[0mException\u001b[0m\u001b[0;34m:\u001b[0m\u001b[0;34m\u001b[0m\u001b[0m\n\u001b[1;32m    713\u001b[0m             \u001b[0;31m# Preserve original exception in case os.close raises.\u001b[0m\u001b[0;34m\u001b[0m\u001b[0;34m\u001b[0m\u001b[0m\n",
      "\u001b[0;32m/home/mingzeng/anaconda2/lib/python2.7/subprocess.pyc\u001b[0m in \u001b[0;36m_execute_child\u001b[0;34m(self, args, executable, preexec_fn, close_fds, cwd, env, universal_newlines, startupinfo, creationflags, shell, to_close, p2cread, p2cwrite, c2pread, c2pwrite, errread, errwrite)\u001b[0m\n\u001b[1;32m   1341\u001b[0m                         \u001b[0;32mraise\u001b[0m\u001b[0;34m\u001b[0m\u001b[0m\n\u001b[1;32m   1342\u001b[0m                 \u001b[0mchild_exception\u001b[0m \u001b[0;34m=\u001b[0m \u001b[0mpickle\u001b[0m\u001b[0;34m.\u001b[0m\u001b[0mloads\u001b[0m\u001b[0;34m(\u001b[0m\u001b[0mdata\u001b[0m\u001b[0;34m)\u001b[0m\u001b[0;34m\u001b[0m\u001b[0m\n\u001b[0;32m-> 1343\u001b[0;31m                 \u001b[0;32mraise\u001b[0m \u001b[0mchild_exception\u001b[0m\u001b[0;34m\u001b[0m\u001b[0m\n\u001b[0m\u001b[1;32m   1344\u001b[0m \u001b[0;34m\u001b[0m\u001b[0m\n\u001b[1;32m   1345\u001b[0m \u001b[0;34m\u001b[0m\u001b[0m\n",
      "\u001b[0;31mOSError\u001b[0m: [Errno 7] Argument list too long"
     ]
    }
   ],
   "source": [
    "word2vec.word2vec(data,\n",
    "                  '/hdd2/graph_embedding/tmp/blogcatalog.embeddings.walks.1.bin', \n",
    "                  size=128, verbose=True)"
   ]
  },
  {
   "cell_type": "code",
   "execution_count": 22,
   "metadata": {
    "collapsed": false
   },
   "outputs": [],
   "source": [
    "model = word2vec.load('/hdd2/graph_embedding/tmp/blogcatalog.embeddings.walks.0.bin')"
   ]
  },
  {
   "cell_type": "code",
   "execution_count": 40,
   "metadata": {
    "collapsed": false
   },
   "outputs": [
    {
     "data": {
      "text/plain": [
       "array([u'</s>', u'4838', u'175', ..., u'9756', u'1678', u'2931'], \n",
       "      dtype='<U78')"
      ]
     },
     "execution_count": 40,
     "metadata": {},
     "output_type": "execute_result"
    }
   ],
   "source": [
    "model.vocab"
   ]
  },
  {
   "cell_type": "code",
   "execution_count": 52,
   "metadata": {
    "collapsed": false
   },
   "outputs": [],
   "source": [
    "features_matrix = np.asarray([model[str(node)] for node in xrange(len(model.vocab)-1)])"
   ]
  },
  {
   "cell_type": "code",
   "execution_count": 48,
   "metadata": {
    "collapsed": false
   },
   "outputs": [
    {
     "data": {
      "text/plain": [
       "array([u'</s>', u'4838', u'175', ..., u'9756', u'1678', u'2931'], \n",
       "      dtype='<U78')"
      ]
     },
     "execution_count": 48,
     "metadata": {},
     "output_type": "execute_result"
    }
   ],
   "source": [
    "model.vocab"
   ]
  },
  {
   "cell_type": "code",
   "execution_count": 38,
   "metadata": {
    "collapsed": false
   },
   "outputs": [
    {
     "data": {
      "text/plain": [
       "array([ 0.03300432, -0.07565996, -0.16463131, -0.10145742,  0.00168844,\n",
       "       -0.09007662, -0.03259023, -0.22714335, -0.00282227, -0.05083675,\n",
       "       -0.07032426, -0.15832779, -0.13998848,  0.07574239,  0.01739285,\n",
       "        0.05170207, -0.01704509, -0.04309488,  0.13984987, -0.07098495,\n",
       "       -0.08131668, -0.06108802,  0.03238546,  0.03199002, -0.14047897,\n",
       "        0.1192169 , -0.11983237,  0.17141342, -0.04238614, -0.07682881,\n",
       "       -0.09226497, -0.08641661, -0.05119943,  0.04880232,  0.05202007,\n",
       "        0.11911941,  0.02494194,  0.0460702 , -0.02544389,  0.02227429,\n",
       "       -0.02918422,  0.08963519, -0.01449389,  0.13147458,  0.04316   ,\n",
       "        0.05062373,  0.01030556,  0.14064927,  0.05300813,  0.09054667,\n",
       "        0.16458763,  0.00496632,  0.09853401, -0.09157445,  0.03466847,\n",
       "       -0.192109  , -0.04286476,  0.0337339 ,  0.09414463,  0.02883872,\n",
       "       -0.12935385,  0.05580147,  0.04444493,  0.12305645, -0.06843153,\n",
       "       -0.05650309, -0.06930542, -0.0933516 , -0.08945961,  0.0355445 ,\n",
       "        0.05217047, -0.09187157,  0.0095493 , -0.16591462,  0.02874937,\n",
       "       -0.0271637 , -0.1071742 , -0.07731676,  0.17057821, -0.08997511,\n",
       "       -0.15251309,  0.0335523 ,  0.08237864,  0.05653743,  0.05472478,\n",
       "       -0.16204691,  0.09632239, -0.0988512 , -0.12040844, -0.13067709,\n",
       "       -0.03478862, -0.07479616,  0.07388658,  0.08031294, -0.12074082,\n",
       "       -0.04398282, -0.04163745,  0.09059986,  0.1189674 ,  0.05980834,\n",
       "       -0.03435113, -0.12926504,  0.06568849, -0.04446449, -0.093913  ,\n",
       "       -0.02966127, -0.00469951, -0.15404062,  0.07520716, -0.02498432,\n",
       "        0.12759562, -0.08096215, -0.07254944,  0.04480873, -0.19941515,\n",
       "       -0.0785991 ,  0.00944981, -0.00052774,  0.031948  ,  0.05943104,\n",
       "       -0.03682529,  0.02468612, -0.00828248,  0.08574598, -0.08077673,\n",
       "        0.09135576,  0.03673941,  0.01044743])"
      ]
     },
     "execution_count": 38,
     "metadata": {},
     "output_type": "execute_result"
    }
   ],
   "source": [
    "model.vectors[1]"
   ]
  },
  {
   "cell_type": "code",
   "execution_count": 50,
   "metadata": {
    "collapsed": false
   },
   "outputs": [
    {
     "data": {
      "text/plain": [
       "array([-0.03359349, -0.01812873, -0.00173358,  0.01964512,  0.10055595,\n",
       "        0.02292307,  0.0607472 ,  0.04138128, -0.12003173, -0.09744611,\n",
       "        0.07093195, -0.01193107,  0.07130294,  0.08676811,  0.11344255,\n",
       "        0.05344105, -0.02284033,  0.05260049, -0.01932774, -0.09711266,\n",
       "       -0.19951601,  0.00738851, -0.07712144, -0.07025649, -0.03221126,\n",
       "       -0.13667656,  0.08364721, -0.04125704, -0.03211425,  0.06983157,\n",
       "       -0.00799658, -0.01177289, -0.16706869,  0.07463736, -0.09091619,\n",
       "       -0.11201481,  0.08337475,  0.05930549, -0.07940312, -0.05631904,\n",
       "       -0.01991395, -0.02349721,  0.1824768 ,  0.01132163, -0.04610476,\n",
       "        0.01006832,  0.04507252, -0.08544502,  0.02825145,  0.02216966,\n",
       "        0.03565323, -0.06984831,  0.03623525,  0.1129318 , -0.09319748,\n",
       "       -0.04915803,  0.11094059,  0.0029751 , -0.08399934,  0.21738739,\n",
       "        0.06743176, -0.09108514,  0.01798326, -0.08503798,  0.0290214 ,\n",
       "        0.07596923, -0.02369601,  0.11986063, -0.04430954, -0.07094733,\n",
       "        0.01175736,  0.01439442, -0.04382178, -0.00226002,  0.21220601,\n",
       "       -0.06764342,  0.07890032,  0.05381876,  0.00717588,  0.07492647,\n",
       "        0.03855799,  0.0598171 ,  0.15265729, -0.07431357, -0.01416465,\n",
       "        0.01648333, -0.12150514,  0.03880982,  0.19457227, -0.07679147,\n",
       "        0.07640341, -0.11388411, -0.06228767, -0.19465441,  0.15413325,\n",
       "        0.15040557,  0.12038716, -0.00415648,  0.08566573,  0.00507924,\n",
       "        0.02487304,  0.1539935 , -0.11243668,  0.14525574,  0.16143647,\n",
       "        0.15734923, -0.06363664, -0.1864682 , -0.01665902,  0.03511102,\n",
       "        0.1189222 , -0.02687126, -0.02499661, -0.04100073,  0.0366022 ,\n",
       "       -0.10856557,  0.00770556,  0.1559227 , -0.02330417,  0.04375458,\n",
       "       -0.13448504,  0.01144326, -0.03192285, -0.04401572,  0.12403052,\n",
       "        0.07985658,  0.04823248, -0.1284066 ])"
      ]
     },
     "execution_count": 50,
     "metadata": {},
     "output_type": "execute_result"
    }
   ],
   "source": [
    "model['0']"
   ]
  },
  {
   "cell_type": "code",
   "execution_count": 53,
   "metadata": {
    "collapsed": false
   },
   "outputs": [
    {
     "data": {
      "text/plain": [
       "array([-0.03359349, -0.01812873, -0.00173358,  0.01964512,  0.10055595,\n",
       "        0.02292307,  0.0607472 ,  0.04138128, -0.12003173, -0.09744611,\n",
       "        0.07093195, -0.01193107,  0.07130294,  0.08676811,  0.11344255,\n",
       "        0.05344105, -0.02284033,  0.05260049, -0.01932774, -0.09711266,\n",
       "       -0.19951601,  0.00738851, -0.07712144, -0.07025649, -0.03221126,\n",
       "       -0.13667656,  0.08364721, -0.04125704, -0.03211425,  0.06983157,\n",
       "       -0.00799658, -0.01177289, -0.16706869,  0.07463736, -0.09091619,\n",
       "       -0.11201481,  0.08337475,  0.05930549, -0.07940312, -0.05631904,\n",
       "       -0.01991395, -0.02349721,  0.1824768 ,  0.01132163, -0.04610476,\n",
       "        0.01006832,  0.04507252, -0.08544502,  0.02825145,  0.02216966,\n",
       "        0.03565323, -0.06984831,  0.03623525,  0.1129318 , -0.09319748,\n",
       "       -0.04915803,  0.11094059,  0.0029751 , -0.08399934,  0.21738739,\n",
       "        0.06743176, -0.09108514,  0.01798326, -0.08503798,  0.0290214 ,\n",
       "        0.07596923, -0.02369601,  0.11986063, -0.04430954, -0.07094733,\n",
       "        0.01175736,  0.01439442, -0.04382178, -0.00226002,  0.21220601,\n",
       "       -0.06764342,  0.07890032,  0.05381876,  0.00717588,  0.07492647,\n",
       "        0.03855799,  0.0598171 ,  0.15265729, -0.07431357, -0.01416465,\n",
       "        0.01648333, -0.12150514,  0.03880982,  0.19457227, -0.07679147,\n",
       "        0.07640341, -0.11388411, -0.06228767, -0.19465441,  0.15413325,\n",
       "        0.15040557,  0.12038716, -0.00415648,  0.08566573,  0.00507924,\n",
       "        0.02487304,  0.1539935 , -0.11243668,  0.14525574,  0.16143647,\n",
       "        0.15734923, -0.06363664, -0.1864682 , -0.01665902,  0.03511102,\n",
       "        0.1189222 , -0.02687126, -0.02499661, -0.04100073,  0.0366022 ,\n",
       "       -0.10856557,  0.00770556,  0.1559227 , -0.02330417,  0.04375458,\n",
       "       -0.13448504,  0.01144326, -0.03192285, -0.04401572,  0.12403052,\n",
       "        0.07985658,  0.04823248, -0.1284066 ])"
      ]
     },
     "execution_count": 53,
     "metadata": {},
     "output_type": "execute_result"
    }
   ],
   "source": [
    "features_matrix[0]"
   ]
  },
  {
   "cell_type": "code",
   "execution_count": null,
   "metadata": {
    "collapsed": true
   },
   "outputs": [],
   "source": []
  }
 ],
 "metadata": {
  "anaconda-cloud": {},
  "kernelspec": {
   "display_name": "Python [default]",
   "language": "python",
   "name": "python2"
  },
  "language_info": {
   "codemirror_mode": {
    "name": "ipython",
    "version": 2
   },
   "file_extension": ".py",
   "mimetype": "text/x-python",
   "name": "python",
   "nbconvert_exporter": "python",
   "pygments_lexer": "ipython2",
   "version": "2.7.12"
  }
 },
 "nbformat": 4,
 "nbformat_minor": 1
}
